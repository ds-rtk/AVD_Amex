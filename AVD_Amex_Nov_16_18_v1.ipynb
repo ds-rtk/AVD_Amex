{
 "cells": [
  {
   "cell_type": "code",
   "execution_count": 1,
   "metadata": {
    "collapsed": true
   },
   "outputs": [],
   "source": [
    "import pandas as pd\n",
    "import numpy as np\n",
    "import warnings"
   ]
  },
  {
   "cell_type": "code",
   "execution_count": 2,
   "metadata": {
    "collapsed": true
   },
   "outputs": [],
   "source": [
    "train_raw = pd.read_csv(\"/Users/reetkanjilal/Downloads/train_amex/train.csv\")\n",
    "test_raw = pd.read_csv(\"/Users/reetkanjilal/Downloads/test.csv\")"
   ]
  },
  {
   "cell_type": "code",
   "execution_count": 3,
   "metadata": {
    "collapsed": true
   },
   "outputs": [],
   "source": [
    "hist_user_log_raw = pd.read_csv(\"/Users/reetkanjilal/Downloads/train_amex/historical_user_logs.csv\")\n",
    "hist_user_log_raw.columns = ['DateTime', 'user_id', 'product', 'action_log']"
   ]
  },
  {
   "cell_type": "code",
   "execution_count": 5,
   "metadata": {
    "collapsed": false
   },
   "outputs": [
    {
     "data": {
      "text/plain": [
       "(24287534, 4)"
      ]
     },
     "execution_count": 5,
     "metadata": {},
     "output_type": "execute_result"
    }
   ],
   "source": [
    "hist_user_log_raw.shape"
   ]
  },
  {
   "cell_type": "code",
   "execution_count": 13,
   "metadata": {
    "collapsed": false
   },
   "outputs": [
    {
     "data": {
      "text/plain": [
       "'2017-07-07 23:59'"
      ]
     },
     "execution_count": 13,
     "metadata": {},
     "output_type": "execute_result"
    }
   ],
   "source": [
    "# \n",
    "train_raw['DateTime'].max()"
   ]
  },
  {
   "cell_type": "code",
   "execution_count": 12,
   "metadata": {
    "collapsed": false
   },
   "outputs": [
    {
     "data": {
      "text/plain": [
       "'2017-07-01 23:59'"
      ]
     },
     "execution_count": 12,
     "metadata": {},
     "output_type": "execute_result"
    }
   ],
   "source": [
    "hist_user_log_raw['DateTime'].max()"
   ]
  },
  {
   "cell_type": "code",
   "execution_count": null,
   "metadata": {
    "collapsed": true
   },
   "outputs": [],
   "source": []
  },
  {
   "cell_type": "code",
   "execution_count": null,
   "metadata": {
    "collapsed": true
   },
   "outputs": [],
   "source": []
  },
  {
   "cell_type": "code",
   "execution_count": null,
   "metadata": {
    "collapsed": true
   },
   "outputs": [],
   "source": []
  },
  {
   "cell_type": "code",
   "execution_count": 14,
   "metadata": {
    "collapsed": true
   },
   "outputs": [],
   "source": [
    "train_merged = pd.merge(train_raw,hist_user_log_raw,how='left', on=['user_id', 'product'])\n",
    "test_merged = pd.merge(test_raw,hist_user_log_raw,how='left', on=['user_id', 'product'])\n"
   ]
  },
  {
   "cell_type": "code",
   "execution_count": 15,
   "metadata": {
    "collapsed": false
   },
   "outputs": [
    {
     "name": "stdout",
     "output_type": "stream",
     "text": [
      "(463291, 15)\n",
      "(463291, 16)\n",
      "(128858, 14)\n",
      "(128858, 15)\n"
     ]
    }
   ],
   "source": [
    "print (train_raw.shape)\n",
    "print (train_merged.shape)\n",
    "\n",
    "print (test_raw.shape)\n",
    "print (test_merged.shape)\n"
   ]
  },
  {
   "cell_type": "code",
   "execution_count": 16,
   "metadata": {
    "collapsed": false
   },
   "outputs": [
    {
     "name": "stderr",
     "output_type": "stream",
     "text": [
      "/Users/reetkanjilal/ml/IIMB_kaggle/lib/python3.5/site-packages/ipykernel_launcher.py:5: FutureWarning: Sorting because non-concatenation axis is not aligned. A future version\n",
      "of pandas will change to not sort by default.\n",
      "\n",
      "To accept the future behavior, pass 'sort=False'.\n",
      "\n",
      "To retain the current behavior and silence the warning, pass 'sort=True'.\n",
      "\n",
      "  \"\"\"\n"
     ]
    },
    {
     "data": {
      "text/html": [
       "<div>\n",
       "<style scoped>\n",
       "    .dataframe tbody tr th:only-of-type {\n",
       "        vertical-align: middle;\n",
       "    }\n",
       "\n",
       "    .dataframe tbody tr th {\n",
       "        vertical-align: top;\n",
       "    }\n",
       "\n",
       "    .dataframe thead th {\n",
       "        text-align: right;\n",
       "    }\n",
       "</style>\n",
       "<table border=\"1\" class=\"dataframe\">\n",
       "  <thead>\n",
       "    <tr style=\"text-align: right;\">\n",
       "      <th></th>\n",
       "      <th>Total</th>\n",
       "      <th>Percent</th>\n",
       "      <th>uniq</th>\n",
       "    </tr>\n",
       "  </thead>\n",
       "  <tbody>\n",
       "    <tr>\n",
       "      <th>DateTime</th>\n",
       "      <td>0</td>\n",
       "      <td>0.000000</td>\n",
       "      <td>8610</td>\n",
       "    </tr>\n",
       "    <tr>\n",
       "      <th>action_log</th>\n",
       "      <td>463291</td>\n",
       "      <td>1.000000</td>\n",
       "      <td>0</td>\n",
       "    </tr>\n",
       "    <tr>\n",
       "      <th>age_level</th>\n",
       "      <td>18243</td>\n",
       "      <td>0.039377</td>\n",
       "      <td>7</td>\n",
       "    </tr>\n",
       "    <tr>\n",
       "      <th>campaign_id</th>\n",
       "      <td>0</td>\n",
       "      <td>0.000000</td>\n",
       "      <td>10</td>\n",
       "    </tr>\n",
       "    <tr>\n",
       "      <th>city_development_index</th>\n",
       "      <td>125129</td>\n",
       "      <td>0.270087</td>\n",
       "      <td>4</td>\n",
       "    </tr>\n",
       "    <tr>\n",
       "      <th>gender</th>\n",
       "      <td>18243</td>\n",
       "      <td>0.039377</td>\n",
       "      <td>2</td>\n",
       "    </tr>\n",
       "    <tr>\n",
       "      <th>is_click</th>\n",
       "      <td>0</td>\n",
       "      <td>0.000000</td>\n",
       "      <td>2</td>\n",
       "    </tr>\n",
       "    <tr>\n",
       "      <th>product</th>\n",
       "      <td>0</td>\n",
       "      <td>0.000000</td>\n",
       "      <td>10</td>\n",
       "    </tr>\n",
       "    <tr>\n",
       "      <th>product_category_1</th>\n",
       "      <td>0</td>\n",
       "      <td>0.000000</td>\n",
       "      <td>5</td>\n",
       "    </tr>\n",
       "    <tr>\n",
       "      <th>product_category_2</th>\n",
       "      <td>365854</td>\n",
       "      <td>0.789685</td>\n",
       "      <td>29</td>\n",
       "    </tr>\n",
       "    <tr>\n",
       "      <th>session_id</th>\n",
       "      <td>0</td>\n",
       "      <td>0.000000</td>\n",
       "      <td>463291</td>\n",
       "    </tr>\n",
       "    <tr>\n",
       "      <th>user_depth</th>\n",
       "      <td>18243</td>\n",
       "      <td>0.039377</td>\n",
       "      <td>3</td>\n",
       "    </tr>\n",
       "    <tr>\n",
       "      <th>user_group_id</th>\n",
       "      <td>18243</td>\n",
       "      <td>0.039377</td>\n",
       "      <td>13</td>\n",
       "    </tr>\n",
       "    <tr>\n",
       "      <th>user_id</th>\n",
       "      <td>0</td>\n",
       "      <td>0.000000</td>\n",
       "      <td>150347</td>\n",
       "    </tr>\n",
       "    <tr>\n",
       "      <th>var_1</th>\n",
       "      <td>0</td>\n",
       "      <td>0.000000</td>\n",
       "      <td>2</td>\n",
       "    </tr>\n",
       "    <tr>\n",
       "      <th>webpage_id</th>\n",
       "      <td>0</td>\n",
       "      <td>0.000000</td>\n",
       "      <td>9</td>\n",
       "    </tr>\n",
       "  </tbody>\n",
       "</table>\n",
       "</div>"
      ],
      "text/plain": [
       "                         Total   Percent    uniq\n",
       "DateTime                     0  0.000000    8610\n",
       "action_log              463291  1.000000       0\n",
       "age_level                18243  0.039377       7\n",
       "campaign_id                  0  0.000000      10\n",
       "city_development_index  125129  0.270087       4\n",
       "gender                   18243  0.039377       2\n",
       "is_click                     0  0.000000       2\n",
       "product                      0  0.000000      10\n",
       "product_category_1           0  0.000000       5\n",
       "product_category_2      365854  0.789685      29\n",
       "session_id                   0  0.000000  463291\n",
       "user_depth               18243  0.039377       3\n",
       "user_group_id            18243  0.039377      13\n",
       "user_id                      0  0.000000  150347\n",
       "var_1                        0  0.000000       2\n",
       "webpage_id                   0  0.000000       9"
      ]
     },
     "execution_count": 16,
     "metadata": {},
     "output_type": "execute_result"
    }
   ],
   "source": [
    "#missing data\n",
    "total = train_merged.isnull().sum().sort_values(ascending=False)\n",
    "percent = (train_merged.isnull().sum()/train_merged.isnull().count()).sort_values(ascending=False)\n",
    "uniq = train_merged.nunique()\n",
    "missing_data = pd.concat([total, percent,uniq], axis=1, keys=['Total', 'Percent','uniq'])\n",
    "missing_data"
   ]
  },
  {
   "cell_type": "code",
   "execution_count": 37,
   "metadata": {
    "collapsed": false
   },
   "outputs": [
    {
     "data": {
      "text/plain": [
       "3.0    402798\n",
       "2.0     30389\n",
       "1.0     11861\n",
       "Name: user_depth, dtype: int64"
      ]
     },
     "execution_count": 37,
     "metadata": {},
     "output_type": "execute_result"
    }
   ],
   "source": [
    "train_raw['user_depth'].value_counts()"
   ]
  },
  {
   "cell_type": "code",
   "execution_count": 41,
   "metadata": {
    "collapsed": false
   },
   "outputs": [
    {
     "data": {
      "text/plain": [
       "0    463291\n",
       "Name: product_category_2_146115, dtype: int64"
      ]
     },
     "execution_count": 41,
     "metadata": {},
     "output_type": "execute_result"
    }
   ],
   "source": [
    "train_mod['product_category_2_146115'].value_counts()"
   ]
  },
  {
   "cell_type": "code",
   "execution_count": null,
   "metadata": {
    "collapsed": true
   },
   "outputs": [],
   "source": []
  },
  {
   "cell_type": "code",
   "execution_count": null,
   "metadata": {
    "collapsed": true
   },
   "outputs": [],
   "source": []
  },
  {
   "cell_type": "code",
   "execution_count": 34,
   "metadata": {
    "collapsed": true
   },
   "outputs": [],
   "source": [
    "train_mod['age_level_0'] = [1 if i == 0 else 0 for i in train_raw['age_level']]"
   ]
  },
  {
   "cell_type": "code",
   "execution_count": null,
   "metadata": {
    "collapsed": true
   },
   "outputs": [],
   "source": []
  },
  {
   "cell_type": "code",
   "execution_count": null,
   "metadata": {
    "collapsed": true
   },
   "outputs": [],
   "source": []
  },
  {
   "cell_type": "code",
   "execution_count": 159,
   "metadata": {
    "collapsed": true
   },
   "outputs": [],
   "source": [
    "def transform(data):\n",
    "  warnings.filterwarnings(\"ignore\")\n",
    "  \n",
    "  data['action_log_view'].fillna(0, inplace = True)\n",
    "  data['action_log_interest'].fillna(0, inplace = True)\n",
    "  \n",
    "  data['gender_m'] = [1 if i == \"Male\" else 0 for i in data['gender']]\n",
    "  data['gender_f'] = [1 if i == \"Female\" else 0 for i in data['gender']]\n",
    "  \n",
    "  data['user_depth_1'] = [1 if i == 1 else 0 for i in data['user_depth']]\n",
    "  data['user_depth_2'] = [1 if i == 2 else 0 for i in data['user_depth']]\n",
    "  data['user_depth_3'] = [1 if i == 3 else 0 for i in data['user_depth']]\n",
    "  \n",
    "  data['age_level_0'] = [1 if i == 0 else 0 for i in data['age_level']]\n",
    "  data['age_level_1'] = [1 if i == 1 else 0 for i in data['age_level']]\n",
    "  data['age_level_2'] = [1 if i == 2 else 0 for i in data['age_level']]\n",
    "  data['age_level_3'] = [1 if i == 3 else 0 for i in data['age_level']]\n",
    "  data['age_level_4'] = [1 if i == 4 else 0 for i in data['age_level']]\n",
    "  data['age_level_5'] = [1 if i == 5 else 0 for i in data['age_level']]\n",
    "  data['age_level_6'] = [1 if i == 6 else 0 for i in data['age_level']]\n",
    "  \n",
    "  data['campaign_id_82320'] = [1 if i == 82320 else 0 for i in data['campaign_id']]\n",
    "  data['campaign_id_98970'] = [1 if i == 98970 else 0 for i in data['campaign_id']]\n",
    "  data['campaign_id_105960'] = [1 if i == 105960 else 0 for i in data['campaign_id']]\n",
    "  data['campaign_id_118601'] = [1 if i == 118601 else 0 for i in data['campaign_id']]\n",
    "  data['campaign_id_359520'] = [1 if i == 359520 else 0 for i in data['campaign_id']]\n",
    "  data['campaign_id_360936'] = [1 if i == 360936 else 0 for i in data['campaign_id']]\n",
    "  data['campaign_id_396664'] = [1 if i == 396664 else 0 for i in data['campaign_id']]\n",
    "  data['campaign_id_404347'] = [1 if i == 404347 else 0 for i in data['campaign_id']]\n",
    "  data['campaign_id_405490'] = [1 if i == 405490 else 0 for i in data['campaign_id']]\n",
    "  \n",
    "  data['city_development_index_1'] = [1 if i == 1.0 else 0 for i in data['city_development_index']]\n",
    "  data['city_development_index_2'] = [1 if i == 2.0 else 0 for i in data['city_development_index']]\n",
    "  data['city_development_index_3'] = [1 if i == 3.0 else 0 for i in data['city_development_index']]\n",
    "  data['city_development_index_4'] = [1 if i == 4.0 else 0 for i in data['city_development_index']]\n",
    "  \n",
    "  data['product_A'] = [1 if i == \"A\" else 0 for i in data['product']]\n",
    "  data['product_B'] = [1 if i == \"B\" else 0 for i in data['product']]\n",
    "  data['product_C'] = [1 if i == \"C\" else 0 for i in data['product']]\n",
    "  data['product_D'] = [1 if i == \"D\" else 0 for i in data['product']]\n",
    "  data['product_E'] = [1 if i == \"E\" else 0 for i in data['product']]\n",
    "  data['product_F'] = [1 if i == \"F\" else 0 for i in data['product']]\n",
    "  data['product_G'] = [1 if i == \"G\" else 0 for i in data['product']]\n",
    "#   data['product_H'] = [1 if i == \"H\" else 0 for i in data['product']]\n",
    "  data['product_I'] = [1 if i == \"I\" else 0 for i in data['product']]\n",
    "  data['product_J'] = [1 if i == \"J\" else 0 for i in data['product']]\n",
    "  \n",
    "  data['product_category_1_1'] = [1 if i == 1 else 0 for i in data['product_category_1']]\n",
    "  data['product_category_1_2'] = [1 if i == 2 else 0 for i in data['product_category_1']]\n",
    "  data['product_category_1_3'] = [1 if i == 3 else 0 for i in data['product_category_1']]\n",
    "#   data['product_category_1_4'] = [1 if i == \"4\" else 0 for i in data['product_category_1']]\n",
    "  data['product_category_1_5'] = [1 if i == 5 else 0 for i in data['product_category_1']]\n",
    "  \n",
    "  data['product_category_2_82527'] = [1 if i == 82527 else 0 for i in data['product_category_2']]\n",
    "  data['product_category_2_146115'] = [1 if i == 146115 else 0 for i in data['product_category_2']]\n",
    "  data['product_category_2_270915'] = [1 if i == 270915 else 0 for i in data['product_category_2']]\n",
    "  data['product_category_2_254132'] = [1 if i == 254132 else 0 for i in data['product_category_2']]\n",
    "  data['product_category_2_419804'] = [1 if i == 419804 else 0 for i in data['product_category_2']]\n",
    "  data['product_category_2_269093'] = [1 if i == 269093 else 0 for i in data['product_category_2']]\n",
    "  data['product_category_2_168114'] = [1 if i == 168114 else 0 for i in data['product_category_2']]\n",
    "  data['product_category_2_408790'] = [1 if i == 408790 else 0 for i in data['product_category_2']]\n",
    "  data['product_category_2_235358'] = [1 if i == 235358 else 0 for i in data['product_category_2']]\n",
    "  data['product_category_2_18595'] = [1 if i == 18595 else 0 for i in data['product_category_2']]\n",
    "  data['product_category_2_234846'] = [1 if i == 234846 else 0 for i in data['product_category_2']]\n",
    "  data['product_category_2_447834'] = [1 if i == 447834 else 0 for i in data['product_category_2']]\n",
    "  data['product_category_2_32026'] = [1 if i == 32026 else 0 for i in data['product_category_2']]\n",
    "  data['product_category_2_143597'] = [1 if i == 143597 else 0 for i in data['product_category_2']]\n",
    "  data['product_category_2_255689'] = [1 if i == 255689 else 0 for i in data['product_category_2']]\n",
    "  data['product_category_2_450184'] = [1 if i == 450184 else 0 for i in data['product_category_2']]\n",
    "  data['product_category_2_327439'] = [1 if i == 327439 else 0 for i in data['product_category_2']]\n",
    "  \n",
    "  \n",
    "  data['user_group_id_0'] = [1 if i == 0 else 0 for i in data['user_group_id']]\n",
    "  data['user_group_id_1'] = [1 if i == 1 else 0 for i in data['user_group_id']]\n",
    "  data['user_group_id_2'] = [1 if i == 2 else 0 for i in data['user_group_id']]\n",
    "  data['user_group_id_3'] = [1 if i == 3 else 0 for i in data['user_group_id']]\n",
    "  data['user_group_id_4'] = [1 if i == 4 else 0 for i in data['user_group_id']]\n",
    "  data['user_group_id_5'] = [1 if i == 5 else 0 for i in data['user_group_id']]\n",
    "  data['user_group_id_6'] = [1 if i == 6 else 0 for i in data['user_group_id']]\n",
    "  data['user_group_id_7'] = [1 if i == 7 else 0 for i in data['user_group_id']]\n",
    "  data['user_group_id_8'] = [1 if i == 8 else 0 for i in data['user_group_id']]\n",
    "  data['user_group_id_9'] = [1 if i == 9 else 0 for i in data['user_group_id']]\n",
    "  data['user_group_id_10'] = [1 if i == 10 else 0 for i in data['user_group_id']]\n",
    "  data['user_group_id_11'] = [1 if i == 11 else 0 for i in data['user_group_id']]\n",
    "  data['user_group_id_12'] = [1 if i == 12 else 0 for i in data['user_group_id']]\n",
    " \n",
    "  \n",
    "  return(data)"
   ]
  },
  {
   "cell_type": "code",
   "execution_count": 160,
   "metadata": {
    "collapsed": true
   },
   "outputs": [],
   "source": [
    "def create_x(data):\n",
    "  feature_list = ['var_1','gender_m','gender_f','user_depth_1','action_log_view','action_log_interest',\n",
    "                  'age_level_3','age_level_4','age_level_5','age_level_6','campaign_id_82320','campaign_id_98970','campaign_id_105960','campaign_id_118601',\n",
    "                  'city_development_index_1','city_development_index_2','city_development_index_3','city_development_index_4','product_A','product_B','product_C','product_D',\n",
    "                  'product_category_1_1','product_category_1_2','product_category_1_3','product_category_1_5','product_category_2_82527','product_category_2_146115','product_category_2_270915','product_category_2_254132',\n",
    "                  'product_category_2_18595','product_category_2_234846','product_category_2_447834','product_category_2_32026','product_category_2_143597','product_category_2_255689','product_category_2_450184','product_category_2_327439',\n",
    "                  'user_group_id_5','user_group_id_6','user_group_id_7','user_group_id_8','user_group_id_9','user_group_id_10','user_group_id_11','user_group_id_12']\n",
    "  \n",
    "  X = data[feature_list]\n",
    "  return(X)\n",
    "\n",
    "def create_y(data):\n",
    "  Y = data['is_click']\n",
    "  return (Y)"
   ]
  },
  {
   "cell_type": "code",
   "execution_count": 45,
   "metadata": {
    "collapsed": false
   },
   "outputs": [
    {
     "name": "stdout",
     "output_type": "stream",
     "text": [
      "(463291, 84)\n",
      "(128858, 83)\n"
     ]
    }
   ],
   "source": [
    "print (train_merged.shape)\n",
    "print (test_merged.shape)"
   ]
  },
  {
   "cell_type": "code",
   "execution_count": 46,
   "metadata": {
    "collapsed": false
   },
   "outputs": [
    {
     "name": "stdout",
     "output_type": "stream",
     "text": [
      "train_mod shape :  (463291, 84)\n",
      "test_mod shape :  (128858, 83)\n"
     ]
    }
   ],
   "source": [
    "# Data transformation\n",
    "\n",
    "train_mod = transform(train_merged)\n",
    "test_mod = transform(test_merged)\n",
    "\n",
    "print (\"train_mod shape : \",train_mod.shape)\n",
    "print (\"test_mod shape : \",test_mod.shape)"
   ]
  },
  {
   "cell_type": "code",
   "execution_count": 63,
   "metadata": {
    "collapsed": false
   },
   "outputs": [
    {
     "data": {
      "text/plain": [
       "session_id                   463291\n",
       "DateTime                       8610\n",
       "user_id                      150347\n",
       "product                          10\n",
       "campaign_id                      10\n",
       "webpage_id                        9\n",
       "product_category_1                5\n",
       "product_category_2               29\n",
       "user_group_id                    13\n",
       "gender                            2\n",
       "age_level                         7\n",
       "user_depth                        3\n",
       "city_development_index            4\n",
       "var_1                             2\n",
       "is_click                          2\n",
       "action_log                        0\n",
       "gender_m                          2\n",
       "gender_f                          2\n",
       "user_depth_1                      2\n",
       "user_depth_2                      2\n",
       "user_depth_3                      2\n",
       "age_level_0                       2\n",
       "age_level_1                       2\n",
       "age_level_2                       2\n",
       "age_level_3                       2\n",
       "age_level_4                       2\n",
       "age_level_5                       2\n",
       "age_level_6                       2\n",
       "campaign_id_82320                 2\n",
       "campaign_id_98970                 2\n",
       "                              ...  \n",
       "product_category_2_82527          2\n",
       "product_category_2_146115         2\n",
       "product_category_2_270915         2\n",
       "product_category_2_254132         2\n",
       "product_category_2_419804         2\n",
       "product_category_2_269093         2\n",
       "product_category_2_168114         2\n",
       "product_category_2_408790         2\n",
       "product_category_2_235358         2\n",
       "product_category_2_18595          2\n",
       "product_category_2_234846         2\n",
       "product_category_2_447834         2\n",
       "product_category_2_32026          2\n",
       "product_category_2_143597         2\n",
       "product_category_2_255689         2\n",
       "product_category_2_450184         2\n",
       "product_category_2_327439         2\n",
       "user_group_id_0                   2\n",
       "user_group_id_1                   2\n",
       "user_group_id_2                   2\n",
       "user_group_id_3                   2\n",
       "user_group_id_4                   2\n",
       "user_group_id_5                   2\n",
       "user_group_id_6                   2\n",
       "user_group_id_7                   2\n",
       "user_group_id_8                   2\n",
       "user_group_id_9                   2\n",
       "user_group_id_10                  2\n",
       "user_group_id_11                  2\n",
       "user_group_id_12                  2\n",
       "Length: 84, dtype: int64"
      ]
     },
     "execution_count": 63,
     "metadata": {},
     "output_type": "execute_result"
    }
   ],
   "source": [
    "train_mod.nunique()"
   ]
  },
  {
   "cell_type": "code",
   "execution_count": 28,
   "metadata": {
    "collapsed": true
   },
   "outputs": [],
   "source": [
    "train_mod.to_csv(\"train_mod.csv\")\n",
    "test_mod.to_csv(\"test_mod.csv\")"
   ]
  },
  {
   "cell_type": "code",
   "execution_count": 133,
   "metadata": {
    "collapsed": false
   },
   "outputs": [
    {
     "data": {
      "text/plain": [
       "0    431960\n",
       "1     31331\n",
       "Name: is_click, dtype: int64"
      ]
     },
     "execution_count": 133,
     "metadata": {},
     "output_type": "execute_result"
    }
   ],
   "source": [
    "train_mod['is_click'].value_counts()"
   ]
  },
  {
   "cell_type": "code",
   "execution_count": 15,
   "metadata": {
    "collapsed": true
   },
   "outputs": [],
   "source": [
    "# del train_merged\n",
    "# del test_merged\n",
    "# del train_raw\n",
    "# # del test_raw\n",
    "# del hist_user_log_raw"
   ]
  },
  {
   "cell_type": "code",
   "execution_count": 64,
   "metadata": {
    "collapsed": false
   },
   "outputs": [
    {
     "name": "stdout",
     "output_type": "stream",
     "text": [
      "(463291, 84)\n",
      "(62662, 84)\n"
     ]
    }
   ],
   "source": [
    "minority_class_len = len(train_mod[train_mod['is_click'] == 1])\n",
    "\n",
    "mejor_indices = train_mod[train_mod.is_click == 0].index\n",
    "\n",
    "random_indices = np.random.choice(mejor_indices,minority_class_len, replace=False)\n",
    "\n",
    "minor_indices = train_mod[train_mod.is_click == 1].index\n",
    "\n",
    "under_sample_indices = np.concatenate([minor_indices,random_indices])\n",
    "\n",
    "under_sample = train_mod.loc[under_sample_indices]\n",
    "\n",
    "print (train_mod.shape)\n",
    "print (under_sample.shape)\n"
   ]
  },
  {
   "cell_type": "code",
   "execution_count": 66,
   "metadata": {
    "collapsed": false
   },
   "outputs": [
    {
     "data": {
      "text/plain": [
       "1    31331\n",
       "0    31331\n",
       "Name: is_click, dtype: int64"
      ]
     },
     "execution_count": 66,
     "metadata": {},
     "output_type": "execute_result"
    }
   ],
   "source": [
    "# \n",
    "under_sample[\"is_click\"].value_counts()\n",
    "# train_mod[\"is_click\"].value_counts()"
   ]
  },
  {
   "cell_type": "code",
   "execution_count": null,
   "metadata": {
    "collapsed": true
   },
   "outputs": [],
   "source": []
  },
  {
   "cell_type": "code",
   "execution_count": 67,
   "metadata": {
    "collapsed": false
   },
   "outputs": [],
   "source": [
    "X = create_x(under_sample)\n",
    "y = create_y(under_sample)\n",
    "\n",
    "X_test = create_x(test_mod)\n",
    "\n",
    "# X_train, X_val, y_train, y_val = train_test_split(X, y, test_size=0.15, random_state=42)"
   ]
  },
  {
   "cell_type": "code",
   "execution_count": 68,
   "metadata": {
    "collapsed": false
   },
   "outputs": [
    {
     "data": {
      "text/plain": [
       "(62662, 44)"
      ]
     },
     "execution_count": 68,
     "metadata": {},
     "output_type": "execute_result"
    }
   ],
   "source": [
    "X.shape"
   ]
  },
  {
   "cell_type": "code",
   "execution_count": 25,
   "metadata": {
    "collapsed": true
   },
   "outputs": [],
   "source": [
    "X.to_csv(\"X_train.csv\")\n",
    "y.to_csv(\"y_train.csv\")\n",
    "\n",
    "X_test.to_csv(\"X_test.csv\")\n",
    "\n"
   ]
  },
  {
   "cell_type": "code",
   "execution_count": 72,
   "metadata": {
    "collapsed": false
   },
   "outputs": [],
   "source": [
    "from sklearn.model_selection import train_test_split\n",
    "\n",
    "X_train, X_val, y_train, y_val = train_test_split(X, y, test_size=0.15, random_state=42)"
   ]
  },
  {
   "cell_type": "code",
   "execution_count": 73,
   "metadata": {
    "collapsed": false
   },
   "outputs": [
    {
     "name": "stdout",
     "output_type": "stream",
     "text": [
      "(128858, 44)\n"
     ]
    }
   ],
   "source": [
    "print (X_test.shape)"
   ]
  },
  {
   "cell_type": "code",
   "execution_count": 74,
   "metadata": {
    "collapsed": false
   },
   "outputs": [
    {
     "name": "stdout",
     "output_type": "stream",
     "text": [
      "(9400, 44)\n",
      "(9400,)\n"
     ]
    }
   ],
   "source": [
    "print (X_val.shape)\n",
    "print (y_val.shape)"
   ]
  },
  {
   "cell_type": "code",
   "execution_count": 147,
   "metadata": {
    "collapsed": false
   },
   "outputs": [
    {
     "data": {
      "text/plain": [
       "90450     1\n",
       "15911     1\n",
       "54177     1\n",
       "185577    0\n",
       "271962    0\n",
       "Name: is_click, dtype: int64"
      ]
     },
     "execution_count": 147,
     "metadata": {},
     "output_type": "execute_result"
    }
   ],
   "source": [
    "y_train.head()"
   ]
  },
  {
   "cell_type": "markdown",
   "metadata": {},
   "source": [
    "### Model RF"
   ]
  },
  {
   "cell_type": "code",
   "execution_count": 55,
   "metadata": {
    "collapsed": true
   },
   "outputs": [],
   "source": [
    "from sklearn.ensemble import RandomForestClassifier"
   ]
  },
  {
   "cell_type": "code",
   "execution_count": 69,
   "metadata": {
    "collapsed": false
   },
   "outputs": [],
   "source": [
    "rand_f_cls = RandomForestClassifier(n_jobs=-1,n_estimators=200,max_depth=10,max_features = 'sqrt')"
   ]
  },
  {
   "cell_type": "code",
   "execution_count": 70,
   "metadata": {
    "collapsed": false
   },
   "outputs": [
    {
     "data": {
      "text/plain": [
       "RandomForestClassifier(bootstrap=True, class_weight=None, criterion='gini',\n",
       "            max_depth=10, max_features='sqrt', max_leaf_nodes=None,\n",
       "            min_impurity_decrease=0.0, min_impurity_split=None,\n",
       "            min_samples_leaf=1, min_samples_split=2,\n",
       "            min_weight_fraction_leaf=0.0, n_estimators=200, n_jobs=-1,\n",
       "            oob_score=False, random_state=None, verbose=0,\n",
       "            warm_start=False)"
      ]
     },
     "execution_count": 70,
     "metadata": {},
     "output_type": "execute_result"
    }
   ],
   "source": [
    "rand_f_cls.fit( X_train, y_train )"
   ]
  },
  {
   "cell_type": "code",
   "execution_count": 279,
   "metadata": {
    "collapsed": true
   },
   "outputs": [],
   "source": [
    "from sklearn.metrics import confusion_matrix\n",
    "# from sklearn.metrics import \n",
    "from sklearn.metrics import roc_auc_score\n",
    "def model_evaluate( model_ ,Y,X):\n",
    "    pred_df = pd.DataFrame( { \"actual\": Y, \"predicted\" : model_.predict( X ) } )\n",
    "    tn, fp, fn, tp = confusion_matrix(pred_df['actual'], pred_df[\"predicted\"]).ravel()\n",
    "    acc = roc_auc_score(pred_df[\"actual\"], pred_df[\"predicted\"])\n",
    "\n",
    "    print(\"AUC: \",acc, \"TN: \", tn, \" : \", \"FP: \", fp, \"FN: \", fn, \"TP:\", tp )"
   ]
  },
  {
   "cell_type": "code",
   "execution_count": 71,
   "metadata": {
    "collapsed": false
   },
   "outputs": [
    {
     "name": "stdout",
     "output_type": "stream",
     "text": [
      "AUC:  0.5 TN:  367162  :  FP:  0 FN:  26635 TP: 0\n"
     ]
    }
   ],
   "source": [
    "model_evaluate(rand_f_cls,y_train,X_train)"
   ]
  },
  {
   "cell_type": "code",
   "execution_count": null,
   "metadata": {
    "collapsed": true
   },
   "outputs": [],
   "source": [
    "\n"
   ]
  },
  {
   "cell_type": "code",
   "execution_count": 152,
   "metadata": {
    "collapsed": false
   },
   "outputs": [
    {
     "name": "stdout",
     "output_type": "stream",
     "text": [
      "AUC:  0.5121147306535527 TN:  1829  :  FP:  2914 FN:  1683 TP: 2974\n"
     ]
    }
   ],
   "source": [
    "model_evaluate(rand_f_cls,y_val,X_val)"
   ]
  },
  {
   "cell_type": "code",
   "execution_count": 153,
   "metadata": {
    "collapsed": false
   },
   "outputs": [
    {
     "data": {
      "text/plain": [
       "(128858, 83)"
      ]
     },
     "execution_count": 153,
     "metadata": {},
     "output_type": "execute_result"
    }
   ],
   "source": [
    "test_mod.shape"
   ]
  },
  {
   "cell_type": "code",
   "execution_count": 81,
   "metadata": {
    "collapsed": false
   },
   "outputs": [
    {
     "data": {
      "text/plain": [
       "(2880034, 46)"
      ]
     },
     "execution_count": 81,
     "metadata": {},
     "output_type": "execute_result"
    }
   ],
   "source": [
    "X_test.shape"
   ]
  },
  {
   "cell_type": "code",
   "execution_count": 155,
   "metadata": {
    "collapsed": false
   },
   "outputs": [
    {
     "data": {
      "text/plain": [
       "'/Users/reetkanjilal/Hack/AVD_Amex_Nov16_18'"
      ]
     },
     "execution_count": 155,
     "metadata": {},
     "output_type": "execute_result"
    }
   ],
   "source": [
    "import os\n",
    "os.getcwd()"
   ]
  },
  {
   "cell_type": "code",
   "execution_count": 156,
   "metadata": {
    "collapsed": true
   },
   "outputs": [],
   "source": [
    "def predict_test( model_):\n",
    "    ouput_test = pd.DataFrame( { \"session_id\": test_raw[\"session_id\"], \"is_click\" : model_.predict(X_test) } )        \n",
    "    ouput_test.to_csv(\"/Users/reetkanjilal/Hack/AVD_Amex_Nov16_18/RF_1.csv\")\n",
    "    return ouput_test"
   ]
  },
  {
   "cell_type": "markdown",
   "metadata": {},
   "source": [
    "### Boosting"
   ]
  },
  {
   "cell_type": "code",
   "execution_count": 75,
   "metadata": {
    "collapsed": false
   },
   "outputs": [
    {
     "name": "stderr",
     "output_type": "stream",
     "text": [
      "/Users/reetkanjilal/ml/IIMB_kaggle/lib/python3.5/site-packages/sklearn/cross_validation.py:41: DeprecationWarning: This module was deprecated in version 0.18 in favor of the model_selection module into which all the refactored classes and functions are moved. Also note that the interface of the new CV iterators are different from that of this module. This module will be removed in 0.20.\n",
      "  \"This module will be removed in 0.20.\", DeprecationWarning)\n",
      "/Users/reetkanjilal/ml/IIMB_kaggle/lib/python3.5/site-packages/sklearn/grid_search.py:42: DeprecationWarning: This module was deprecated in version 0.18 in favor of the model_selection module into which all the refactored classes and functions are moved. This module will be removed in 0.20.\n",
      "  DeprecationWarning)\n"
     ]
    }
   ],
   "source": [
    "#Import libraries:\n",
    "import xgboost as xgb\n",
    "from xgboost.sklearn import XGBClassifier\n",
    "from sklearn import cross_validation, metrics   #Additional scklearn functions\n",
    "from sklearn.grid_search import GridSearchCV   #Perforing grid search"
   ]
  },
  {
   "cell_type": "code",
   "execution_count": null,
   "metadata": {
    "collapsed": true
   },
   "outputs": [],
   "source": []
  },
  {
   "cell_type": "code",
   "execution_count": 76,
   "metadata": {
    "collapsed": true
   },
   "outputs": [],
   "source": [
    "import matplotlib.pyplot as plt\n",
    "%matplotlib inline"
   ]
  },
  {
   "cell_type": "code",
   "execution_count": 77,
   "metadata": {
    "collapsed": false
   },
   "outputs": [],
   "source": [
    "def modelfit(alg, dtrain,y_train, predictors,useTrainCV=True, cv_folds=5, early_stopping_rounds=50):\n",
    "    \n",
    "    if useTrainCV:\n",
    "        xgb_param = alg.get_xgb_params()\n",
    "        xgtrain = xgb.DMatrix(dtrain.values, label=y_train.values)\n",
    "        cvresult = xgb.cv(xgb_param, xgtrain, num_boost_round=alg.get_params()['n_estimators'], nfold=cv_folds,\n",
    "                            metrics='auc', early_stopping_rounds=early_stopping_rounds)\n",
    "        alg.set_params(n_estimators=cvresult.shape[0])\n",
    "    \n",
    "    #Fit the algorithm on the data\n",
    "    alg.fit(dtrain, y_train,eval_metric='auc')\n",
    "        \n",
    "    #Predict training set:\n",
    "    dtrain_predictions = alg.predict(dtrain)\n",
    "    dtrain_predprob = alg.predict_proba(dtrain)[:,1]\n",
    "        \n",
    "    #Print model report:\n",
    "    print (\"\\nModel Report\")\n",
    "    print (\"Accuracy : %.4g\" % metrics.accuracy_score(y_train.values, dtrain_predictions))\n",
    "    print (\"AUC Score (Train): %f\" % metrics.roc_auc_score(y_train, dtrain_predprob))\n",
    "    \n",
    "    \n",
    "    fig, ax = plt.subplots(figsize=(12,18))\n",
    "    xgb.plot_importance(alg, max_num_features=50, height=0.8,ax=ax)\n",
    "    plt.show()\n",
    "    \n",
    "    \n",
    "#     feat_imp = pd.Series(alg.booster().get_fscore()).sort_values(ascending=False)\n",
    "#     feat_imp.plot(kind='bar', title='Feature Importances')\n",
    "#     plt.ylabel('Feature Importance Score')"
   ]
  },
  {
   "cell_type": "code",
   "execution_count": 84,
   "metadata": {
    "collapsed": false
   },
   "outputs": [],
   "source": [
    "\n",
    "xgb1 = XGBClassifier(\n",
    " learning_rate =0.01,\n",
    " n_estimators=5000,\n",
    " max_depth=10,\n",
    " min_child_weight=1,\n",
    " gamma=0,\n",
    " subsample=0.8,\n",
    " colsample_bytree=0.8,\n",
    " objective= 'binary:logistic',\n",
    " nthread=4,\n",
    " scale_pos_weight=1,\n",
    " seed=27)\n"
   ]
  },
  {
   "cell_type": "code",
   "execution_count": 85,
   "metadata": {
    "collapsed": false
   },
   "outputs": [
    {
     "name": "stderr",
     "output_type": "stream",
     "text": [
      "/Users/reetkanjilal/ml/IIMB_kaggle/lib/python3.5/site-packages/sklearn/preprocessing/label.py:151: DeprecationWarning: The truth value of an empty array is ambiguous. Returning False, but in future this will result in an error. Use `array.size > 0` to check that an array is not empty.\n",
      "  if diff:\n"
     ]
    },
    {
     "name": "stdout",
     "output_type": "stream",
     "text": [
      "\n",
      "Model Report\n",
      "Accuracy : 0.5756\n",
      "AUC Score (Train): 0.606220\n"
     ]
    },
    {
     "data": {
      "image/png": "[encoded data removed]",
      "text/plain": [
       "<Figure size 864x1296 with 1 Axes>"
      ]
     },
     "metadata": {
      "needs_background": "light"
     },
     "output_type": "display_data"
    }
   ],
   "source": [
    "predictors = X_train.columns\n",
    "modelfit(xgb1, X_train,y_train, predictors)\n",
    "\n"
   ]
  },
  {
   "cell_type": "code",
   "execution_count": 86,
   "metadata": {
    "collapsed": false
   },
   "outputs": [
    {
     "name": "stdout",
     "output_type": "stream",
     "text": [
      "AUC:  0.5561577788924025 TN:  2534  :  FP:  2209 FN:  1965 TP: 2692\n"
     ]
    },
    {
     "name": "stderr",
     "output_type": "stream",
     "text": [
      "/Users/reetkanjilal/ml/IIMB_kaggle/lib/python3.5/site-packages/sklearn/preprocessing/label.py:151: DeprecationWarning: The truth value of an empty array is ambiguous. Returning False, but in future this will result in an error. Use `array.size > 0` to check that an array is not empty.\n",
      "  if diff:\n"
     ]
    }
   ],
   "source": [
    "model_evaluate(xgb1,y_val,X_val)"
   ]
  },
  {
   "cell_type": "code",
   "execution_count": 89,
   "metadata": {
    "collapsed": true
   },
   "outputs": [],
   "source": [
    "def predict_test( model_):\n",
    "    ouput_test = pd.DataFrame( { \"session_id\": test_raw[\"session_id\"], \"is_click\" : model_.predict(X_test) } )        \n",
    "    ouput_test.to_csv(\"/Users/reetkanjilal/Hack/AVD_Amex_Nov16_18/XGB_2.csv\")\n",
    "    return ouput_test"
   ]
  },
  {
   "cell_type": "code",
   "execution_count": 90,
   "metadata": {
    "collapsed": false
   },
   "outputs": [
    {
     "name": "stderr",
     "output_type": "stream",
     "text": [
      "/Users/reetkanjilal/ml/IIMB_kaggle/lib/python3.5/site-packages/sklearn/preprocessing/label.py:151: DeprecationWarning: The truth value of an empty array is ambiguous. Returning False, but in future this will result in an error. Use `array.size > 0` to check that an array is not empty.\n",
      "  if diff:\n"
     ]
    },
    {
     "data": {
      "text/html": [
       "<div>\n",
       "<style scoped>\n",
       "    .dataframe tbody tr th:only-of-type {\n",
       "        vertical-align: middle;\n",
       "    }\n",
       "\n",
       "    .dataframe tbody tr th {\n",
       "        vertical-align: top;\n",
       "    }\n",
       "\n",
       "    .dataframe thead th {\n",
       "        text-align: right;\n",
       "    }\n",
       "</style>\n",
       "<table border=\"1\" class=\"dataframe\">\n",
       "  <thead>\n",
       "    <tr style=\"text-align: right;\">\n",
       "      <th></th>\n",
       "      <th>is_click</th>\n",
       "      <th>session_id</th>\n",
       "    </tr>\n",
       "  </thead>\n",
       "  <tbody>\n",
       "    <tr>\n",
       "      <th>0</th>\n",
       "      <td>1</td>\n",
       "      <td>411705</td>\n",
       "    </tr>\n",
       "    <tr>\n",
       "      <th>1</th>\n",
       "      <td>1</td>\n",
       "      <td>208263</td>\n",
       "    </tr>\n",
       "    <tr>\n",
       "      <th>2</th>\n",
       "      <td>0</td>\n",
       "      <td>239450</td>\n",
       "    </tr>\n",
       "    <tr>\n",
       "      <th>3</th>\n",
       "      <td>0</td>\n",
       "      <td>547761</td>\n",
       "    </tr>\n",
       "    <tr>\n",
       "      <th>4</th>\n",
       "      <td>1</td>\n",
       "      <td>574275</td>\n",
       "    </tr>\n",
       "    <tr>\n",
       "      <th>5</th>\n",
       "      <td>0</td>\n",
       "      <td>394913</td>\n",
       "    </tr>\n",
       "    <tr>\n",
       "      <th>6</th>\n",
       "      <td>0</td>\n",
       "      <td>562747</td>\n",
       "    </tr>\n",
       "    <tr>\n",
       "      <th>7</th>\n",
       "      <td>0</td>\n",
       "      <td>224359</td>\n",
       "    </tr>\n",
       "    <tr>\n",
       "      <th>8</th>\n",
       "      <td>0</td>\n",
       "      <td>395004</td>\n",
       "    </tr>\n",
       "    <tr>\n",
       "      <th>9</th>\n",
       "      <td>1</td>\n",
       "      <td>572855</td>\n",
       "    </tr>\n",
       "    <tr>\n",
       "      <th>10</th>\n",
       "      <td>0</td>\n",
       "      <td>595386</td>\n",
       "    </tr>\n",
       "    <tr>\n",
       "      <th>11</th>\n",
       "      <td>0</td>\n",
       "      <td>395293</td>\n",
       "    </tr>\n",
       "    <tr>\n",
       "      <th>12</th>\n",
       "      <td>1</td>\n",
       "      <td>232085</td>\n",
       "    </tr>\n",
       "    <tr>\n",
       "      <th>13</th>\n",
       "      <td>1</td>\n",
       "      <td>222325</td>\n",
       "    </tr>\n",
       "    <tr>\n",
       "      <th>14</th>\n",
       "      <td>0</td>\n",
       "      <td>395297</td>\n",
       "    </tr>\n",
       "    <tr>\n",
       "      <th>15</th>\n",
       "      <td>1</td>\n",
       "      <td>546723</td>\n",
       "    </tr>\n",
       "    <tr>\n",
       "      <th>16</th>\n",
       "      <td>0</td>\n",
       "      <td>28142</td>\n",
       "    </tr>\n",
       "    <tr>\n",
       "      <th>17</th>\n",
       "      <td>0</td>\n",
       "      <td>595767</td>\n",
       "    </tr>\n",
       "    <tr>\n",
       "      <th>18</th>\n",
       "      <td>1</td>\n",
       "      <td>547614</td>\n",
       "    </tr>\n",
       "    <tr>\n",
       "      <th>19</th>\n",
       "      <td>0</td>\n",
       "      <td>577690</td>\n",
       "    </tr>\n",
       "    <tr>\n",
       "      <th>20</th>\n",
       "      <td>1</td>\n",
       "      <td>207878</td>\n",
       "    </tr>\n",
       "    <tr>\n",
       "      <th>21</th>\n",
       "      <td>0</td>\n",
       "      <td>394014</td>\n",
       "    </tr>\n",
       "    <tr>\n",
       "      <th>22</th>\n",
       "      <td>1</td>\n",
       "      <td>582507</td>\n",
       "    </tr>\n",
       "    <tr>\n",
       "      <th>23</th>\n",
       "      <td>1</td>\n",
       "      <td>207440</td>\n",
       "    </tr>\n",
       "    <tr>\n",
       "      <th>24</th>\n",
       "      <td>1</td>\n",
       "      <td>312987</td>\n",
       "    </tr>\n",
       "    <tr>\n",
       "      <th>25</th>\n",
       "      <td>1</td>\n",
       "      <td>223950</td>\n",
       "    </tr>\n",
       "    <tr>\n",
       "      <th>26</th>\n",
       "      <td>1</td>\n",
       "      <td>547956</td>\n",
       "    </tr>\n",
       "    <tr>\n",
       "      <th>27</th>\n",
       "      <td>1</td>\n",
       "      <td>218279</td>\n",
       "    </tr>\n",
       "    <tr>\n",
       "      <th>28</th>\n",
       "      <td>0</td>\n",
       "      <td>21770</td>\n",
       "    </tr>\n",
       "    <tr>\n",
       "      <th>29</th>\n",
       "      <td>1</td>\n",
       "      <td>567908</td>\n",
       "    </tr>\n",
       "    <tr>\n",
       "      <th>...</th>\n",
       "      <td>...</td>\n",
       "      <td>...</td>\n",
       "    </tr>\n",
       "    <tr>\n",
       "      <th>128828</th>\n",
       "      <td>0</td>\n",
       "      <td>576965</td>\n",
       "    </tr>\n",
       "    <tr>\n",
       "      <th>128829</th>\n",
       "      <td>1</td>\n",
       "      <td>385092</td>\n",
       "    </tr>\n",
       "    <tr>\n",
       "      <th>128830</th>\n",
       "      <td>1</td>\n",
       "      <td>231847</td>\n",
       "    </tr>\n",
       "    <tr>\n",
       "      <th>128831</th>\n",
       "      <td>0</td>\n",
       "      <td>528266</td>\n",
       "    </tr>\n",
       "    <tr>\n",
       "      <th>128832</th>\n",
       "      <td>1</td>\n",
       "      <td>274527</td>\n",
       "    </tr>\n",
       "    <tr>\n",
       "      <th>128833</th>\n",
       "      <td>1</td>\n",
       "      <td>225742</td>\n",
       "    </tr>\n",
       "    <tr>\n",
       "      <th>128834</th>\n",
       "      <td>0</td>\n",
       "      <td>130350</td>\n",
       "    </tr>\n",
       "    <tr>\n",
       "      <th>128835</th>\n",
       "      <td>1</td>\n",
       "      <td>415589</td>\n",
       "    </tr>\n",
       "    <tr>\n",
       "      <th>128836</th>\n",
       "      <td>1</td>\n",
       "      <td>585703</td>\n",
       "    </tr>\n",
       "    <tr>\n",
       "      <th>128837</th>\n",
       "      <td>0</td>\n",
       "      <td>516578</td>\n",
       "    </tr>\n",
       "    <tr>\n",
       "      <th>128838</th>\n",
       "      <td>0</td>\n",
       "      <td>139725</td>\n",
       "    </tr>\n",
       "    <tr>\n",
       "      <th>128839</th>\n",
       "      <td>1</td>\n",
       "      <td>574168</td>\n",
       "    </tr>\n",
       "    <tr>\n",
       "      <th>128840</th>\n",
       "      <td>1</td>\n",
       "      <td>559393</td>\n",
       "    </tr>\n",
       "    <tr>\n",
       "      <th>128841</th>\n",
       "      <td>1</td>\n",
       "      <td>567265</td>\n",
       "    </tr>\n",
       "    <tr>\n",
       "      <th>128842</th>\n",
       "      <td>0</td>\n",
       "      <td>349453</td>\n",
       "    </tr>\n",
       "    <tr>\n",
       "      <th>128843</th>\n",
       "      <td>1</td>\n",
       "      <td>396688</td>\n",
       "    </tr>\n",
       "    <tr>\n",
       "      <th>128844</th>\n",
       "      <td>1</td>\n",
       "      <td>433931</td>\n",
       "    </tr>\n",
       "    <tr>\n",
       "      <th>128845</th>\n",
       "      <td>1</td>\n",
       "      <td>579307</td>\n",
       "    </tr>\n",
       "    <tr>\n",
       "      <th>128846</th>\n",
       "      <td>0</td>\n",
       "      <td>137109</td>\n",
       "    </tr>\n",
       "    <tr>\n",
       "      <th>128847</th>\n",
       "      <td>0</td>\n",
       "      <td>384407</td>\n",
       "    </tr>\n",
       "    <tr>\n",
       "      <th>128848</th>\n",
       "      <td>1</td>\n",
       "      <td>88077</td>\n",
       "    </tr>\n",
       "    <tr>\n",
       "      <th>128849</th>\n",
       "      <td>0</td>\n",
       "      <td>25626</td>\n",
       "    </tr>\n",
       "    <tr>\n",
       "      <th>128850</th>\n",
       "      <td>0</td>\n",
       "      <td>463740</td>\n",
       "    </tr>\n",
       "    <tr>\n",
       "      <th>128851</th>\n",
       "      <td>1</td>\n",
       "      <td>225111</td>\n",
       "    </tr>\n",
       "    <tr>\n",
       "      <th>128852</th>\n",
       "      <td>1</td>\n",
       "      <td>575270</td>\n",
       "    </tr>\n",
       "    <tr>\n",
       "      <th>128853</th>\n",
       "      <td>0</td>\n",
       "      <td>215328</td>\n",
       "    </tr>\n",
       "    <tr>\n",
       "      <th>128854</th>\n",
       "      <td>1</td>\n",
       "      <td>282232</td>\n",
       "    </tr>\n",
       "    <tr>\n",
       "      <th>128855</th>\n",
       "      <td>0</td>\n",
       "      <td>140499</td>\n",
       "    </tr>\n",
       "    <tr>\n",
       "      <th>128856</th>\n",
       "      <td>0</td>\n",
       "      <td>531038</td>\n",
       "    </tr>\n",
       "    <tr>\n",
       "      <th>128857</th>\n",
       "      <td>0</td>\n",
       "      <td>349998</td>\n",
       "    </tr>\n",
       "  </tbody>\n",
       "</table>\n",
       "<p>128858 rows × 2 columns</p>\n",
       "</div>"
      ],
      "text/plain": [
       "        is_click  session_id\n",
       "0              1      411705\n",
       "1              1      208263\n",
       "2              0      239450\n",
       "3              0      547761\n",
       "4              1      574275\n",
       "5              0      394913\n",
       "6              0      562747\n",
       "7              0      224359\n",
       "8              0      395004\n",
       "9              1      572855\n",
       "10             0      595386\n",
       "11             0      395293\n",
       "12             1      232085\n",
       "13             1      222325\n",
       "14             0      395297\n",
       "15             1      546723\n",
       "16             0       28142\n",
       "17             0      595767\n",
       "18             1      547614\n",
       "19             0      577690\n",
       "20             1      207878\n",
       "21             0      394014\n",
       "22             1      582507\n",
       "23             1      207440\n",
       "24             1      312987\n",
       "25             1      223950\n",
       "26             1      547956\n",
       "27             1      218279\n",
       "28             0       21770\n",
       "29             1      567908\n",
       "...          ...         ...\n",
       "128828         0      576965\n",
       "128829         1      385092\n",
       "128830         1      231847\n",
       "128831         0      528266\n",
       "128832         1      274527\n",
       "128833         1      225742\n",
       "128834         0      130350\n",
       "128835         1      415589\n",
       "128836         1      585703\n",
       "128837         0      516578\n",
       "128838         0      139725\n",
       "128839         1      574168\n",
       "128840         1      559393\n",
       "128841         1      567265\n",
       "128842         0      349453\n",
       "128843         1      396688\n",
       "128844         1      433931\n",
       "128845         1      579307\n",
       "128846         0      137109\n",
       "128847         0      384407\n",
       "128848         1       88077\n",
       "128849         0       25626\n",
       "128850         0      463740\n",
       "128851         1      225111\n",
       "128852         1      575270\n",
       "128853         0      215328\n",
       "128854         1      282232\n",
       "128855         0      140499\n",
       "128856         0      531038\n",
       "128857         0      349998\n",
       "\n",
       "[128858 rows x 2 columns]"
      ]
     },
     "execution_count": 90,
     "metadata": {},
     "output_type": "execute_result"
    }
   ],
   "source": [
    "predict_test(xgb1)"
   ]
  },
  {
   "cell_type": "markdown",
   "metadata": {
    "collapsed": true
   },
   "source": [
    "#### Historical User info"
   ]
  },
  {
   "cell_type": "code",
   "execution_count": 104,
   "metadata": {
    "collapsed": false
   },
   "outputs": [
    {
     "data": {
      "text/html": [
       "<div>\n",
       "<style scoped>\n",
       "    .dataframe tbody tr th:only-of-type {\n",
       "        vertical-align: middle;\n",
       "    }\n",
       "\n",
       "    .dataframe tbody tr th {\n",
       "        vertical-align: top;\n",
       "    }\n",
       "\n",
       "    .dataframe thead th {\n",
       "        text-align: right;\n",
       "    }\n",
       "</style>\n",
       "<table border=\"1\" class=\"dataframe\">\n",
       "  <thead>\n",
       "    <tr style=\"text-align: right;\">\n",
       "      <th></th>\n",
       "      <th>DateTime</th>\n",
       "      <th>user_id</th>\n",
       "      <th>product</th>\n",
       "      <th>action_log</th>\n",
       "      <th>action_log_view</th>\n",
       "      <th>action_log_interest</th>\n",
       "      <th>user_id_prod</th>\n",
       "    </tr>\n",
       "  </thead>\n",
       "  <tbody>\n",
       "    <tr>\n",
       "      <th>0</th>\n",
       "      <td>2017-05-28 15:44</td>\n",
       "      <td>704</td>\n",
       "      <td>B</td>\n",
       "      <td>view</td>\n",
       "      <td>1</td>\n",
       "      <td>0</td>\n",
       "      <td>704_B</td>\n",
       "    </tr>\n",
       "    <tr>\n",
       "      <th>1</th>\n",
       "      <td>2017-05-29 07:08</td>\n",
       "      <td>499679</td>\n",
       "      <td>F</td>\n",
       "      <td>view</td>\n",
       "      <td>1</td>\n",
       "      <td>0</td>\n",
       "      <td>499679_F</td>\n",
       "    </tr>\n",
       "    <tr>\n",
       "      <th>2</th>\n",
       "      <td>2017-05-29 07:10</td>\n",
       "      <td>499679</td>\n",
       "      <td>G</td>\n",
       "      <td>view</td>\n",
       "      <td>1</td>\n",
       "      <td>0</td>\n",
       "      <td>499679_G</td>\n",
       "    </tr>\n",
       "    <tr>\n",
       "      <th>3</th>\n",
       "      <td>2017-05-29 07:10</td>\n",
       "      <td>499679</td>\n",
       "      <td>G</td>\n",
       "      <td>view</td>\n",
       "      <td>1</td>\n",
       "      <td>0</td>\n",
       "      <td>499679_G</td>\n",
       "    </tr>\n",
       "    <tr>\n",
       "      <th>4</th>\n",
       "      <td>2017-05-29 07:10</td>\n",
       "      <td>499679</td>\n",
       "      <td>G</td>\n",
       "      <td>view</td>\n",
       "      <td>1</td>\n",
       "      <td>0</td>\n",
       "      <td>499679_G</td>\n",
       "    </tr>\n",
       "  </tbody>\n",
       "</table>\n",
       "</div>"
      ],
      "text/plain": [
       "           DateTime  user_id product action_log  action_log_view  \\\n",
       "0  2017-05-28 15:44      704       B       view                1   \n",
       "1  2017-05-29 07:08   499679       F       view                1   \n",
       "2  2017-05-29 07:10   499679       G       view                1   \n",
       "3  2017-05-29 07:10   499679       G       view                1   \n",
       "4  2017-05-29 07:10   499679       G       view                1   \n",
       "\n",
       "   action_log_interest user_id_prod  \n",
       "0                    0        704_B  \n",
       "1                    0     499679_F  \n",
       "2                    0     499679_G  \n",
       "3                    0     499679_G  \n",
       "4                    0     499679_G  "
      ]
     },
     "execution_count": 104,
     "metadata": {},
     "output_type": "execute_result"
    }
   ],
   "source": [
    "# hist_user_log_raw['action_log_view'] = [1 if i == \"view\" else 0 for i in hist_user_log_raw['action_log']]\n",
    "# hist_user_log_raw['action_log_interest'] = [1 if i == \"interest\" else 0 for i in hist_user_log_raw['action_log']]\n",
    "hist_user_log_raw['user_id_prod'] = hist_user_log_raw['user_id'].astype(str).str.cat(hist_user_log_raw['product'].astype(str),sep='_')\n",
    "# hist_user_log_raw[['user_id', 'product']].apply(lambda x: ''.join(x), axis=1)\n",
    "hist_user_log_raw.head()"
   ]
  },
  {
   "cell_type": "code",
   "execution_count": 106,
   "metadata": {
    "collapsed": false
   },
   "outputs": [
    {
     "data": {
      "text/html": [
       "<div>\n",
       "<style scoped>\n",
       "    .dataframe tbody tr th:only-of-type {\n",
       "        vertical-align: middle;\n",
       "    }\n",
       "\n",
       "    .dataframe tbody tr th {\n",
       "        vertical-align: top;\n",
       "    }\n",
       "\n",
       "    .dataframe thead th {\n",
       "        text-align: right;\n",
       "    }\n",
       "</style>\n",
       "<table border=\"1\" class=\"dataframe\">\n",
       "  <thead>\n",
       "    <tr style=\"text-align: right;\">\n",
       "      <th></th>\n",
       "      <th>user_id_prod</th>\n",
       "      <th>action_log_view</th>\n",
       "      <th>action_log_interest</th>\n",
       "    </tr>\n",
       "  </thead>\n",
       "  <tbody>\n",
       "    <tr>\n",
       "      <th>0</th>\n",
       "      <td>1000001_A</td>\n",
       "      <td>13</td>\n",
       "      <td>0</td>\n",
       "    </tr>\n",
       "    <tr>\n",
       "      <th>1</th>\n",
       "      <td>1000001_B</td>\n",
       "      <td>5</td>\n",
       "      <td>0</td>\n",
       "    </tr>\n",
       "    <tr>\n",
       "      <th>2</th>\n",
       "      <td>1000001_C</td>\n",
       "      <td>9</td>\n",
       "      <td>0</td>\n",
       "    </tr>\n",
       "    <tr>\n",
       "      <th>3</th>\n",
       "      <td>1000001_D</td>\n",
       "      <td>34</td>\n",
       "      <td>2</td>\n",
       "    </tr>\n",
       "    <tr>\n",
       "      <th>4</th>\n",
       "      <td>1000001_F</td>\n",
       "      <td>7</td>\n",
       "      <td>0</td>\n",
       "    </tr>\n",
       "  </tbody>\n",
       "</table>\n",
       "</div>"
      ],
      "text/plain": [
       "  user_id_prod  action_log_view  action_log_interest\n",
       "0    1000001_A               13                    0\n",
       "1    1000001_B                5                    0\n",
       "2    1000001_C                9                    0\n",
       "3    1000001_D               34                    2\n",
       "4    1000001_F                7                    0"
      ]
     },
     "execution_count": 106,
     "metadata": {},
     "output_type": "execute_result"
    }
   ],
   "source": [
    "hist_user_log_raw_view = hist_user_log_raw.groupby('user_id_prod')['action_log_view','action_log_interest'].sum().reset_index()\n",
    "hist_user_log_raw_view.head()"
   ]
  },
  {
   "cell_type": "code",
   "execution_count": 108,
   "metadata": {
    "collapsed": false
   },
   "outputs": [],
   "source": [
    "train_raw['user_id_prod'] = train_raw['user_id'].astype(str).str.cat(train_raw['product'].astype(str),sep='_')\n",
    "test_raw['user_id_prod'] = test_raw['user_id'].astype(str).str.cat(test_raw['product'].astype(str),sep='_')"
   ]
  },
  {
   "cell_type": "code",
   "execution_count": 118,
   "metadata": {
    "collapsed": false
   },
   "outputs": [
    {
     "name": "stdout",
     "output_type": "stream",
     "text": [
      "(463291, 16)\n",
      "(463291, 18)\n",
      "(128858, 15)\n",
      "(128858, 17)\n"
     ]
    }
   ],
   "source": [
    "train_merged = pd.merge(train_raw,hist_user_log_raw_view[['user_id_prod','action_log_view','action_log_interest']],how='left', on=['user_id_prod'])\n",
    "test_merged = pd.merge(test_raw,hist_user_log_raw_view[['user_id_prod','action_log_view','action_log_interest']],how='left', on=['user_id_prod'])\n",
    "\n",
    "\n",
    "print (train_raw.shape)\n",
    "print (train_merged.shape)\n",
    "\n",
    "print (test_raw.shape)\n",
    "print (test_merged.shape)\n",
    "\n"
   ]
  },
  {
   "cell_type": "code",
   "execution_count": 161,
   "metadata": {
    "collapsed": false
   },
   "outputs": [
    {
     "name": "stdout",
     "output_type": "stream",
     "text": [
      "train_mod shape :  (463291, 86)\n",
      "test_mod shape :  (128858, 85)\n"
     ]
    }
   ],
   "source": [
    "# Data transformation\n",
    "\n",
    "train_mod = transform(train_merged)\n",
    "test_mod = transform(test_merged)\n",
    "\n",
    "print (\"train_mod shape : \",train_mod.shape)\n",
    "print (\"test_mod shape : \",test_mod.shape)"
   ]
  },
  {
   "cell_type": "code",
   "execution_count": 168,
   "metadata": {
    "collapsed": false
   },
   "outputs": [
    {
     "data": {
      "text/plain": [
       "463291"
      ]
     },
     "execution_count": 168,
     "metadata": {},
     "output_type": "execute_result"
    }
   ],
   "source": [
    "train_mod['session_id'].nunique()"
   ]
  },
  {
   "cell_type": "code",
   "execution_count": 193,
   "metadata": {
    "collapsed": true
   },
   "outputs": [],
   "source": [
    "from sklearn.preprocessing import PolynomialFeatures\n",
    "poly_transformer = PolynomialFeatures(degree = 5)\n",
    "\n",
    "poly_features = ['action_log_view', 'action_log_interest']\n",
    "\n",
    "\n",
    "\n",
    "def poly_transform(data):\n",
    "    df = data[poly_features]\n",
    "    poly_transformer.fit(df)\n",
    "    df = poly_transformer.transform(df)\n",
    "    \n",
    "    df = pd.DataFrame(df,columns = poly_transformer.get_feature_names(['action_log_view', 'action_log_interest']))\n",
    "    \n",
    "    df['session_id'] = data['session_id']\n",
    "    \n",
    "    data = data.merge(df.iloc[:,3:],on = 'session_id',how = 'left')\n",
    "\n",
    "\n",
    "    print('Poly shape : ', df.shape)\n",
    "    print (\"Data Shape : \",data.shape)\n",
    "    return data, df"
   ]
  },
  {
   "cell_type": "code",
   "execution_count": 198,
   "metadata": {
    "collapsed": false
   },
   "outputs": [
    {
     "name": "stdout",
     "output_type": "stream",
     "text": [
      "Poly shape :  (463291, 22)\n",
      "Data Shape :  (463291, 104)\n",
      "Poly shape :  (128858, 22)\n",
      "Data Shape :  (128858, 103)\n"
     ]
    }
   ],
   "source": [
    "train_mod_1, ply_trn = poly_transform(train_mod)\n",
    "test_mod_1, ply_tst = poly_transform(test_mod)\n",
    "# train_mod[['action_log_view', 'action_log_interest']].isna().any()"
   ]
  },
  {
   "cell_type": "code",
   "execution_count": 217,
   "metadata": {
    "collapsed": false
   },
   "outputs": [],
   "source": [
    "feature_list = ['var_1','gender_m','gender_f','user_depth_1','action_log_view','action_log_interest',\n",
    "                  'age_level_3','age_level_4','age_level_5','age_level_6','campaign_id_82320','campaign_id_98970','campaign_id_105960','campaign_id_118601',\n",
    "                  'city_development_index_1','city_development_index_2','city_development_index_3','city_development_index_4','product_A','product_B','product_C','product_D',\n",
    "                  'product_category_1_1','product_category_1_2','product_category_1_3','product_category_1_5','product_category_2_82527','product_category_2_146115','product_category_2_270915','product_category_2_254132',\n",
    "                  'product_category_2_18595','product_category_2_234846','product_category_2_447834','product_category_2_32026','product_category_2_143597','product_category_2_255689','product_category_2_450184','product_category_2_327439',\n",
    "                  'user_group_id_5','user_group_id_6','user_group_id_7','user_group_id_8','user_group_id_9','user_group_id_10','user_group_id_11','user_group_id_12']\n",
    "  \n",
    "    \n",
    "poly_feature = ['action_log_view^2', 'action_log_view action_log_interest',\n",
    "                   'action_log_interest^2', 'action_log_view^3',\n",
    "                   'action_log_view^2 action_log_interest',\n",
    "                   'action_log_view action_log_interest^2', 'action_log_interest^3',\n",
    "                   'action_log_view^4', 'action_log_view^3 action_log_interest',\n",
    "                   'action_log_view^2 action_log_interest^2',\n",
    "                   'action_log_view action_log_interest^3', 'action_log_interest^4',\n",
    "                   'action_log_view^5', 'action_log_view^4 action_log_interest',\n",
    "                   'action_log_view^3 action_log_interest^2',\n",
    "                   'action_log_view^2 action_log_interest^3',\n",
    "                   'action_log_view action_log_interest^4', 'action_log_interest^5']\n",
    "\n",
    "\n",
    "all_features = feature_list + poly_feature"
   ]
  },
  {
   "cell_type": "code",
   "execution_count": 219,
   "metadata": {
    "collapsed": false
   },
   "outputs": [
    {
     "data": {
      "text/html": [
       "<div>\n",
       "<style scoped>\n",
       "    .dataframe tbody tr th:only-of-type {\n",
       "        vertical-align: middle;\n",
       "    }\n",
       "\n",
       "    .dataframe tbody tr th {\n",
       "        vertical-align: top;\n",
       "    }\n",
       "\n",
       "    .dataframe thead th {\n",
       "        text-align: right;\n",
       "    }\n",
       "</style>\n",
       "<table border=\"1\" class=\"dataframe\">\n",
       "  <thead>\n",
       "    <tr style=\"text-align: right;\">\n",
       "      <th></th>\n",
       "      <th>var_1</th>\n",
       "      <th>gender_m</th>\n",
       "      <th>gender_f</th>\n",
       "      <th>user_depth_1</th>\n",
       "      <th>action_log_view</th>\n",
       "      <th>action_log_interest</th>\n",
       "      <th>age_level_3</th>\n",
       "      <th>age_level_4</th>\n",
       "      <th>age_level_5</th>\n",
       "      <th>age_level_6</th>\n",
       "      <th>...</th>\n",
       "      <th>action_log_view^3 action_log_interest</th>\n",
       "      <th>action_log_view^2 action_log_interest^2</th>\n",
       "      <th>action_log_view action_log_interest^3</th>\n",
       "      <th>action_log_interest^4</th>\n",
       "      <th>action_log_view^5</th>\n",
       "      <th>action_log_view^4 action_log_interest</th>\n",
       "      <th>action_log_view^3 action_log_interest^2</th>\n",
       "      <th>action_log_view^2 action_log_interest^3</th>\n",
       "      <th>action_log_view action_log_interest^4</th>\n",
       "      <th>action_log_interest^5</th>\n",
       "    </tr>\n",
       "  </thead>\n",
       "  <tbody>\n",
       "    <tr>\n",
       "      <th>0</th>\n",
       "      <td>0</td>\n",
       "      <td>0</td>\n",
       "      <td>1</td>\n",
       "      <td>0</td>\n",
       "      <td>5.0</td>\n",
       "      <td>0.0</td>\n",
       "      <td>0</td>\n",
       "      <td>1</td>\n",
       "      <td>0</td>\n",
       "      <td>0</td>\n",
       "      <td>...</td>\n",
       "      <td>0.0</td>\n",
       "      <td>0.0</td>\n",
       "      <td>0.0</td>\n",
       "      <td>0.0</td>\n",
       "      <td>3125.0</td>\n",
       "      <td>0.0</td>\n",
       "      <td>0.0</td>\n",
       "      <td>0.0</td>\n",
       "      <td>0.0</td>\n",
       "      <td>0.0</td>\n",
       "    </tr>\n",
       "    <tr>\n",
       "      <th>1</th>\n",
       "      <td>0</td>\n",
       "      <td>0</td>\n",
       "      <td>1</td>\n",
       "      <td>0</td>\n",
       "      <td>11.0</td>\n",
       "      <td>0.0</td>\n",
       "      <td>0</td>\n",
       "      <td>0</td>\n",
       "      <td>0</td>\n",
       "      <td>0</td>\n",
       "      <td>...</td>\n",
       "      <td>0.0</td>\n",
       "      <td>0.0</td>\n",
       "      <td>0.0</td>\n",
       "      <td>0.0</td>\n",
       "      <td>161051.0</td>\n",
       "      <td>0.0</td>\n",
       "      <td>0.0</td>\n",
       "      <td>0.0</td>\n",
       "      <td>0.0</td>\n",
       "      <td>0.0</td>\n",
       "    </tr>\n",
       "    <tr>\n",
       "      <th>2</th>\n",
       "      <td>0</td>\n",
       "      <td>0</td>\n",
       "      <td>1</td>\n",
       "      <td>0</td>\n",
       "      <td>11.0</td>\n",
       "      <td>0.0</td>\n",
       "      <td>0</td>\n",
       "      <td>0</td>\n",
       "      <td>0</td>\n",
       "      <td>0</td>\n",
       "      <td>...</td>\n",
       "      <td>0.0</td>\n",
       "      <td>0.0</td>\n",
       "      <td>0.0</td>\n",
       "      <td>0.0</td>\n",
       "      <td>161051.0</td>\n",
       "      <td>0.0</td>\n",
       "      <td>0.0</td>\n",
       "      <td>0.0</td>\n",
       "      <td>0.0</td>\n",
       "      <td>0.0</td>\n",
       "    </tr>\n",
       "    <tr>\n",
       "      <th>3</th>\n",
       "      <td>1</td>\n",
       "      <td>1</td>\n",
       "      <td>0</td>\n",
       "      <td>0</td>\n",
       "      <td>8.0</td>\n",
       "      <td>1.0</td>\n",
       "      <td>1</td>\n",
       "      <td>0</td>\n",
       "      <td>0</td>\n",
       "      <td>0</td>\n",
       "      <td>...</td>\n",
       "      <td>512.0</td>\n",
       "      <td>64.0</td>\n",
       "      <td>8.0</td>\n",
       "      <td>1.0</td>\n",
       "      <td>32768.0</td>\n",
       "      <td>4096.0</td>\n",
       "      <td>512.0</td>\n",
       "      <td>64.0</td>\n",
       "      <td>8.0</td>\n",
       "      <td>1.0</td>\n",
       "    </tr>\n",
       "    <tr>\n",
       "      <th>4</th>\n",
       "      <td>1</td>\n",
       "      <td>1</td>\n",
       "      <td>0</td>\n",
       "      <td>0</td>\n",
       "      <td>3.0</td>\n",
       "      <td>0.0</td>\n",
       "      <td>0</td>\n",
       "      <td>0</td>\n",
       "      <td>0</td>\n",
       "      <td>0</td>\n",
       "      <td>...</td>\n",
       "      <td>0.0</td>\n",
       "      <td>0.0</td>\n",
       "      <td>0.0</td>\n",
       "      <td>0.0</td>\n",
       "      <td>243.0</td>\n",
       "      <td>0.0</td>\n",
       "      <td>0.0</td>\n",
       "      <td>0.0</td>\n",
       "      <td>0.0</td>\n",
       "      <td>0.0</td>\n",
       "    </tr>\n",
       "  </tbody>\n",
       "</table>\n",
       "<p>5 rows × 64 columns</p>\n",
       "</div>"
      ],
      "text/plain": [
       "   var_1  gender_m  gender_f  user_depth_1  action_log_view  \\\n",
       "0      0         0         1             0              5.0   \n",
       "1      0         0         1             0             11.0   \n",
       "2      0         0         1             0             11.0   \n",
       "3      1         1         0             0              8.0   \n",
       "4      1         1         0             0              3.0   \n",
       "\n",
       "   action_log_interest  age_level_3  age_level_4  age_level_5  age_level_6  \\\n",
       "0                  0.0            0            1            0            0   \n",
       "1                  0.0            0            0            0            0   \n",
       "2                  0.0            0            0            0            0   \n",
       "3                  1.0            1            0            0            0   \n",
       "4                  0.0            0            0            0            0   \n",
       "\n",
       "           ...            action_log_view^3 action_log_interest  \\\n",
       "0          ...                                              0.0   \n",
       "1          ...                                              0.0   \n",
       "2          ...                                              0.0   \n",
       "3          ...                                            512.0   \n",
       "4          ...                                              0.0   \n",
       "\n",
       "   action_log_view^2 action_log_interest^2  \\\n",
       "0                                      0.0   \n",
       "1                                      0.0   \n",
       "2                                      0.0   \n",
       "3                                     64.0   \n",
       "4                                      0.0   \n",
       "\n",
       "   action_log_view action_log_interest^3  action_log_interest^4  \\\n",
       "0                                    0.0                    0.0   \n",
       "1                                    0.0                    0.0   \n",
       "2                                    0.0                    0.0   \n",
       "3                                    8.0                    1.0   \n",
       "4                                    0.0                    0.0   \n",
       "\n",
       "   action_log_view^5  action_log_view^4 action_log_interest  \\\n",
       "0             3125.0                                    0.0   \n",
       "1           161051.0                                    0.0   \n",
       "2           161051.0                                    0.0   \n",
       "3            32768.0                                 4096.0   \n",
       "4              243.0                                    0.0   \n",
       "\n",
       "   action_log_view^3 action_log_interest^2  \\\n",
       "0                                      0.0   \n",
       "1                                      0.0   \n",
       "2                                      0.0   \n",
       "3                                    512.0   \n",
       "4                                      0.0   \n",
       "\n",
       "   action_log_view^2 action_log_interest^3  \\\n",
       "0                                      0.0   \n",
       "1                                      0.0   \n",
       "2                                      0.0   \n",
       "3                                     64.0   \n",
       "4                                      0.0   \n",
       "\n",
       "   action_log_view action_log_interest^4  action_log_interest^5  \n",
       "0                                    0.0                    0.0  \n",
       "1                                    0.0                    0.0  \n",
       "2                                    0.0                    0.0  \n",
       "3                                    8.0                    1.0  \n",
       "4                                    0.0                    0.0  \n",
       "\n",
       "[5 rows x 64 columns]"
      ]
     },
     "execution_count": 219,
     "metadata": {},
     "output_type": "execute_result"
    }
   ],
   "source": [
    "train_mod_1[all_features].head()"
   ]
  },
  {
   "cell_type": "code",
   "execution_count": null,
   "metadata": {
    "collapsed": true
   },
   "outputs": [],
   "source": []
  },
  {
   "cell_type": "code",
   "execution_count": 221,
   "metadata": {
    "collapsed": false
   },
   "outputs": [],
   "source": [
    "\n",
    "\n",
    "def create_x(data):\n",
    "    feature_list = ['var_1','gender_m','gender_f','user_depth_1','action_log_view','action_log_interest',\n",
    "                  'age_level_3','age_level_4','age_level_5','age_level_6','campaign_id_82320','campaign_id_98970','campaign_id_105960','campaign_id_118601',\n",
    "                  'city_development_index_1','city_development_index_2','city_development_index_3','city_development_index_4','product_A','product_B','product_C','product_D',\n",
    "                  'product_category_1_1','product_category_1_2','product_category_1_3','product_category_1_5','product_category_2_82527','product_category_2_146115','product_category_2_270915','product_category_2_254132',\n",
    "                  'product_category_2_18595','product_category_2_234846','product_category_2_447834','product_category_2_32026','product_category_2_143597','product_category_2_255689','product_category_2_450184','product_category_2_327439',\n",
    "                  'user_group_id_5','user_group_id_6','user_group_id_7','user_group_id_8','user_group_id_9','user_group_id_10','user_group_id_11','user_group_id_12']\n",
    "  \n",
    "    \n",
    "    poly_feature = ['action_log_view^2', 'action_log_view action_log_interest',\n",
    "                   'action_log_interest^2', 'action_log_view^3',\n",
    "                   'action_log_view^2 action_log_interest',\n",
    "                   'action_log_view action_log_interest^2', 'action_log_interest^3',\n",
    "                   'action_log_view^4', 'action_log_view^3 action_log_interest',\n",
    "                   'action_log_view^2 action_log_interest^2',\n",
    "                   'action_log_view action_log_interest^3', 'action_log_interest^4',\n",
    "                   'action_log_view^5', 'action_log_view^4 action_log_interest',\n",
    "                   'action_log_view^3 action_log_interest^2',\n",
    "                   'action_log_view^2 action_log_interest^3',\n",
    "                   'action_log_view action_log_interest^4', 'action_log_interest^5']\n",
    "\n",
    "\n",
    "    all_features = feature_list + poly_feature\n",
    "  \n",
    "    X = data[all_features]\n",
    "  \n",
    "    return(X)\n",
    "\n",
    "def create_y(data):\n",
    "    Y = data['is_click']\n",
    "    return (Y)"
   ]
  },
  {
   "cell_type": "code",
   "execution_count": 241,
   "metadata": {
    "collapsed": false
   },
   "outputs": [
    {
     "name": "stdout",
     "output_type": "stream",
     "text": [
      "Class 0: 431960\n",
      "Class 1: 31331\n",
      "Proportion: 13.79 : 1\n"
     ]
    },
    {
     "data": {
      "image/png": "[encoded data removed]",
      "text/plain": [
       "<Figure size 432x288 with 1 Axes>"
      ]
     },
     "metadata": {
      "needs_background": "light"
     },
     "output_type": "display_data"
    }
   ],
   "source": [
    "target_count = train_mod.is_click.value_counts()\n",
    "print('Class 0:', target_count[0])\n",
    "print('Class 1:', target_count[1])\n",
    "print('Proportion:', round(target_count[0] / target_count[1], 2), ': 1')\n",
    "\n",
    "target_count.plot(kind='bar', title='Count (target)');"
   ]
  },
  {
   "cell_type": "code",
   "execution_count": 243,
   "metadata": {
    "collapsed": false
   },
   "outputs": [
    {
     "name": "stdout",
     "output_type": "stream",
     "text": [
      "Requirement already satisfied: imblearn in /Users/reetkanjilal/anaconda/lib/python2.7/site-packages (0.0)\n",
      "Requirement already satisfied: imbalanced-learn in /Users/reetkanjilal/anaconda/lib/python2.7/site-packages (from imblearn) (0.4.3)\n",
      "Requirement already satisfied: numpy>=1.8.2 in /Users/reetkanjilal/anaconda/lib/python2.7/site-packages (from imbalanced-learn->imblearn) (1.14.5)\n",
      "Requirement already satisfied: scikit-learn>=0.20 in /Users/reetkanjilal/anaconda/lib/python2.7/site-packages (from imbalanced-learn->imblearn) (0.20.0)\n",
      "Requirement already satisfied: scipy>=0.13.3 in /Users/reetkanjilal/anaconda/lib/python2.7/site-packages (from imbalanced-learn->imblearn) (1.1.0)\n",
      "\u001b[33mYou are using pip version 10.0.1, however version 18.1 is available.\n",
      "You should consider upgrading via the 'pip install --upgrade pip' command.\u001b[0m\n"
     ]
    }
   ],
   "source": [
    "!pip install imblearn"
   ]
  },
  {
   "cell_type": "code",
   "execution_count": 246,
   "metadata": {
    "collapsed": false
   },
   "outputs": [],
   "source": [
    "# import sys\n",
    "sys.path.append(\"/Users/reetkanjilal/anaconda/lib/python2.7/site-packages\")"
   ]
  },
  {
   "cell_type": "code",
   "execution_count": 247,
   "metadata": {
    "collapsed": false
   },
   "outputs": [
    {
     "data": {
      "text/plain": [
       "['',\n",
       " '/Users/reetkanjilal/ml/IIMB_kaggle/lib/python35.zip',\n",
       " '/Users/reetkanjilal/ml/IIMB_kaggle/lib/python3.5',\n",
       " '/Users/reetkanjilal/ml/IIMB_kaggle/lib/python3.5/plat-darwin',\n",
       " '/Users/reetkanjilal/ml/IIMB_kaggle/lib/python3.5/lib-dynload',\n",
       " '/Library/Frameworks/Python.framework/Versions/3.5/lib/python3.5',\n",
       " '/Library/Frameworks/Python.framework/Versions/3.5/lib/python3.5/plat-darwin',\n",
       " '/Users/reetkanjilal/ml/IIMB_kaggle/lib/python3.5/site-packages',\n",
       " '/Library/Frameworks/Python.framework/Versions/3.5/lib/python3.5/site-packages',\n",
       " '/Users/reetkanjilal/ml/IIMB_kaggle/lib/python3.5/site-packages/IPython/extensions',\n",
       " '/Users/reetkanjilal/.ipython',\n",
       " '/Users/reetkanjilal/anaconda/lib/python2.7/site-packages']"
      ]
     },
     "execution_count": 247,
     "metadata": {},
     "output_type": "execute_result"
    }
   ],
   "source": [
    "sys.path"
   ]
  },
  {
   "cell_type": "code",
   "execution_count": 248,
   "metadata": {
    "collapsed": false
   },
   "outputs": [],
   "source": [
    "\n",
    "from imblearn.over_sampling import SMOTE"
   ]
  },
  {
   "cell_type": "code",
   "execution_count": 286,
   "metadata": {
    "collapsed": false
   },
   "outputs": [],
   "source": [
    "smote = SMOTE(ratio='minority')\n",
    "X_sm, y_sm = smote.fit_sample(X, y)\n"
   ]
  },
  {
   "cell_type": "code",
   "execution_count": 257,
   "metadata": {
    "collapsed": false
   },
   "outputs": [
    {
     "data": {
      "image/png": "[encoded data removed]",
      "text/plain": [
       "<Figure size 432x288 with 1 Axes>"
      ]
     },
     "metadata": {
      "needs_background": "light"
     },
     "output_type": "display_data"
    }
   ],
   "source": [
    "from matplotlib import pyplot as plt\n",
    "\n",
    "def plot_2d_space(X, y, label='Classes'):   \n",
    "    colors = ['#1F77B4', '#FF7F0E']\n",
    "    markers = ['o', 's']\n",
    "    for l, c, m in zip(np.unique(y), colors, markers):\n",
    "        plt.scatter(\n",
    "            X[y==l, 0],\n",
    "            X[y==l, 1],\n",
    "            c=c, label=l, marker=m\n",
    "        )\n",
    "    plt.title(label)\n",
    "    plt.legend(loc='upper right')\n",
    "    plt.show()\n",
    "\n",
    "plot_2d_space(X_sm, y_sm, 'SMOTE over-sampling')"
   ]
  },
  {
   "cell_type": "code",
   "execution_count": 287,
   "metadata": {
    "collapsed": false
   },
   "outputs": [
    {
     "data": {
      "text/html": [
       "<div>\n",
       "<style scoped>\n",
       "    .dataframe tbody tr th:only-of-type {\n",
       "        vertical-align: middle;\n",
       "    }\n",
       "\n",
       "    .dataframe tbody tr th {\n",
       "        vertical-align: top;\n",
       "    }\n",
       "\n",
       "    .dataframe thead th {\n",
       "        text-align: right;\n",
       "    }\n",
       "</style>\n",
       "<table border=\"1\" class=\"dataframe\">\n",
       "  <thead>\n",
       "    <tr style=\"text-align: right;\">\n",
       "      <th></th>\n",
       "      <th>var_1</th>\n",
       "      <th>gender_m</th>\n",
       "      <th>gender_f</th>\n",
       "      <th>user_depth_1</th>\n",
       "      <th>action_log_view</th>\n",
       "      <th>action_log_interest</th>\n",
       "      <th>age_level_3</th>\n",
       "      <th>age_level_4</th>\n",
       "      <th>age_level_5</th>\n",
       "      <th>age_level_6</th>\n",
       "      <th>...</th>\n",
       "      <th>action_log_view^3 action_log_interest</th>\n",
       "      <th>action_log_view^2 action_log_interest^2</th>\n",
       "      <th>action_log_view action_log_interest^3</th>\n",
       "      <th>action_log_interest^4</th>\n",
       "      <th>action_log_view^5</th>\n",
       "      <th>action_log_view^4 action_log_interest</th>\n",
       "      <th>action_log_view^3 action_log_interest^2</th>\n",
       "      <th>action_log_view^2 action_log_interest^3</th>\n",
       "      <th>action_log_view action_log_interest^4</th>\n",
       "      <th>action_log_interest^5</th>\n",
       "    </tr>\n",
       "  </thead>\n",
       "  <tbody>\n",
       "    <tr>\n",
       "      <th>0</th>\n",
       "      <td>0.0</td>\n",
       "      <td>0.0</td>\n",
       "      <td>1.0</td>\n",
       "      <td>0.0</td>\n",
       "      <td>5.0</td>\n",
       "      <td>0.0</td>\n",
       "      <td>0.0</td>\n",
       "      <td>1.0</td>\n",
       "      <td>0.0</td>\n",
       "      <td>0.0</td>\n",
       "      <td>...</td>\n",
       "      <td>0.0</td>\n",
       "      <td>0.0</td>\n",
       "      <td>0.0</td>\n",
       "      <td>0.0</td>\n",
       "      <td>3125.0</td>\n",
       "      <td>0.0</td>\n",
       "      <td>0.0</td>\n",
       "      <td>0.0</td>\n",
       "      <td>0.0</td>\n",
       "      <td>0.0</td>\n",
       "    </tr>\n",
       "    <tr>\n",
       "      <th>1</th>\n",
       "      <td>0.0</td>\n",
       "      <td>0.0</td>\n",
       "      <td>1.0</td>\n",
       "      <td>0.0</td>\n",
       "      <td>11.0</td>\n",
       "      <td>0.0</td>\n",
       "      <td>0.0</td>\n",
       "      <td>0.0</td>\n",
       "      <td>0.0</td>\n",
       "      <td>0.0</td>\n",
       "      <td>...</td>\n",
       "      <td>0.0</td>\n",
       "      <td>0.0</td>\n",
       "      <td>0.0</td>\n",
       "      <td>0.0</td>\n",
       "      <td>161051.0</td>\n",
       "      <td>0.0</td>\n",
       "      <td>0.0</td>\n",
       "      <td>0.0</td>\n",
       "      <td>0.0</td>\n",
       "      <td>0.0</td>\n",
       "    </tr>\n",
       "    <tr>\n",
       "      <th>2</th>\n",
       "      <td>0.0</td>\n",
       "      <td>0.0</td>\n",
       "      <td>1.0</td>\n",
       "      <td>0.0</td>\n",
       "      <td>11.0</td>\n",
       "      <td>0.0</td>\n",
       "      <td>0.0</td>\n",
       "      <td>0.0</td>\n",
       "      <td>0.0</td>\n",
       "      <td>0.0</td>\n",
       "      <td>...</td>\n",
       "      <td>0.0</td>\n",
       "      <td>0.0</td>\n",
       "      <td>0.0</td>\n",
       "      <td>0.0</td>\n",
       "      <td>161051.0</td>\n",
       "      <td>0.0</td>\n",
       "      <td>0.0</td>\n",
       "      <td>0.0</td>\n",
       "      <td>0.0</td>\n",
       "      <td>0.0</td>\n",
       "    </tr>\n",
       "    <tr>\n",
       "      <th>3</th>\n",
       "      <td>1.0</td>\n",
       "      <td>1.0</td>\n",
       "      <td>0.0</td>\n",
       "      <td>0.0</td>\n",
       "      <td>8.0</td>\n",
       "      <td>1.0</td>\n",
       "      <td>1.0</td>\n",
       "      <td>0.0</td>\n",
       "      <td>0.0</td>\n",
       "      <td>0.0</td>\n",
       "      <td>...</td>\n",
       "      <td>512.0</td>\n",
       "      <td>64.0</td>\n",
       "      <td>8.0</td>\n",
       "      <td>1.0</td>\n",
       "      <td>32768.0</td>\n",
       "      <td>4096.0</td>\n",
       "      <td>512.0</td>\n",
       "      <td>64.0</td>\n",
       "      <td>8.0</td>\n",
       "      <td>1.0</td>\n",
       "    </tr>\n",
       "    <tr>\n",
       "      <th>4</th>\n",
       "      <td>1.0</td>\n",
       "      <td>1.0</td>\n",
       "      <td>0.0</td>\n",
       "      <td>0.0</td>\n",
       "      <td>3.0</td>\n",
       "      <td>0.0</td>\n",
       "      <td>0.0</td>\n",
       "      <td>0.0</td>\n",
       "      <td>0.0</td>\n",
       "      <td>0.0</td>\n",
       "      <td>...</td>\n",
       "      <td>0.0</td>\n",
       "      <td>0.0</td>\n",
       "      <td>0.0</td>\n",
       "      <td>0.0</td>\n",
       "      <td>243.0</td>\n",
       "      <td>0.0</td>\n",
       "      <td>0.0</td>\n",
       "      <td>0.0</td>\n",
       "      <td>0.0</td>\n",
       "      <td>0.0</td>\n",
       "    </tr>\n",
       "  </tbody>\n",
       "</table>\n",
       "<p>5 rows × 64 columns</p>\n",
       "</div>"
      ],
      "text/plain": [
       "   var_1  gender_m  gender_f  user_depth_1  action_log_view  \\\n",
       "0    0.0       0.0       1.0           0.0              5.0   \n",
       "1    0.0       0.0       1.0           0.0             11.0   \n",
       "2    0.0       0.0       1.0           0.0             11.0   \n",
       "3    1.0       1.0       0.0           0.0              8.0   \n",
       "4    1.0       1.0       0.0           0.0              3.0   \n",
       "\n",
       "   action_log_interest  age_level_3  age_level_4  age_level_5  age_level_6  \\\n",
       "0                  0.0          0.0          1.0          0.0          0.0   \n",
       "1                  0.0          0.0          0.0          0.0          0.0   \n",
       "2                  0.0          0.0          0.0          0.0          0.0   \n",
       "3                  1.0          1.0          0.0          0.0          0.0   \n",
       "4                  0.0          0.0          0.0          0.0          0.0   \n",
       "\n",
       "           ...            action_log_view^3 action_log_interest  \\\n",
       "0          ...                                              0.0   \n",
       "1          ...                                              0.0   \n",
       "2          ...                                              0.0   \n",
       "3          ...                                            512.0   \n",
       "4          ...                                              0.0   \n",
       "\n",
       "   action_log_view^2 action_log_interest^2  \\\n",
       "0                                      0.0   \n",
       "1                                      0.0   \n",
       "2                                      0.0   \n",
       "3                                     64.0   \n",
       "4                                      0.0   \n",
       "\n",
       "   action_log_view action_log_interest^3  action_log_interest^4  \\\n",
       "0                                    0.0                    0.0   \n",
       "1                                    0.0                    0.0   \n",
       "2                                    0.0                    0.0   \n",
       "3                                    8.0                    1.0   \n",
       "4                                    0.0                    0.0   \n",
       "\n",
       "   action_log_view^5  action_log_view^4 action_log_interest  \\\n",
       "0             3125.0                                    0.0   \n",
       "1           161051.0                                    0.0   \n",
       "2           161051.0                                    0.0   \n",
       "3            32768.0                                 4096.0   \n",
       "4              243.0                                    0.0   \n",
       "\n",
       "   action_log_view^3 action_log_interest^2  \\\n",
       "0                                      0.0   \n",
       "1                                      0.0   \n",
       "2                                      0.0   \n",
       "3                                    512.0   \n",
       "4                                      0.0   \n",
       "\n",
       "   action_log_view^2 action_log_interest^3  \\\n",
       "0                                      0.0   \n",
       "1                                      0.0   \n",
       "2                                      0.0   \n",
       "3                                     64.0   \n",
       "4                                      0.0   \n",
       "\n",
       "   action_log_view action_log_interest^4  action_log_interest^5  \n",
       "0                                    0.0                    0.0  \n",
       "1                                    0.0                    0.0  \n",
       "2                                    0.0                    0.0  \n",
       "3                                    8.0                    1.0  \n",
       "4                                    0.0                    0.0  \n",
       "\n",
       "[5 rows x 64 columns]"
      ]
     },
     "execution_count": 287,
     "metadata": {},
     "output_type": "execute_result"
    }
   ],
   "source": [
    "names_x = X.columns\n",
    "# names_y = y.columns\n",
    "X_sm = pd.DataFrame(X_sm)\n",
    "X_sm.columns = names_x\n",
    "X_sm.head()\n",
    "\n",
    "# y_sm = pd.DataFrame(y_sm)\n",
    "# y_sm.columns = ['is_click']"
   ]
  },
  {
   "cell_type": "code",
   "execution_count": 126,
   "metadata": {
    "collapsed": false
   },
   "outputs": [
    {
     "data": {
      "text/plain": [
       "count    101518.000000\n",
       "mean         27.669871\n",
       "std          49.814709\n",
       "min           0.000000\n",
       "25%           4.000000\n",
       "50%          11.000000\n",
       "75%          31.000000\n",
       "max        1699.000000\n",
       "Name: action_log_view, dtype: float64"
      ]
     },
     "execution_count": 126,
     "metadata": {},
     "output_type": "execute_result"
    }
   ],
   "source": [
    "# train_mod.isnull().any()\n",
    "test_mod['action_log_view'].describe()"
   ]
  },
  {
   "cell_type": "code",
   "execution_count": 222,
   "metadata": {
    "collapsed": false
   },
   "outputs": [
    {
     "name": "stdout",
     "output_type": "stream",
     "text": [
      "(463291, 104)\n",
      "(62662, 104)\n"
     ]
    }
   ],
   "source": [
    "minority_class_len = len(train_mod_1[train_mod['is_click'] == 1])\n",
    "\n",
    "mejor_indices = train_mod_1[train_mod_1.is_click == 0].index\n",
    "\n",
    "random_indices = np.random.choice(mejor_indices,minority_class_len, replace=False)\n",
    "\n",
    "minor_indices = train_mod[train_mod_1.is_click == 1].index\n",
    "\n",
    "under_sample_indices = np.concatenate([minor_indices,random_indices])\n",
    "\n",
    "under_sample = train_mod_1.loc[under_sample_indices]\n",
    "\n",
    "print (train_mod_1.shape)\n",
    "print (under_sample.shape)"
   ]
  },
  {
   "cell_type": "code",
   "execution_count": 251,
   "metadata": {
    "collapsed": false
   },
   "outputs": [],
   "source": [
    "X = create_x(train_mod_1)\n",
    "y = create_y(train_mod_1)\n",
    "\n",
    "X_test = create_x(test_mod_1)\n",
    "\n"
   ]
  },
  {
   "cell_type": "code",
   "execution_count": 261,
   "metadata": {
    "collapsed": false
   },
   "outputs": [
    {
     "ename": "AttributeError",
     "evalue": "'numpy.ndarray' object has no attribute 'value_counts'",
     "output_type": "error",
     "traceback": [
      "\u001b[0;31m---------------------------------------------------------------------------\u001b[0m",
      "\u001b[0;31mAttributeError\u001b[0m                            Traceback (most recent call last)",
      "\u001b[0;32m<ipython-input-261-c62b6ea6535b>\u001b[0m in \u001b[0;36m<module>\u001b[0;34m()\u001b[0m\n\u001b[0;32m----> 1\u001b[0;31m \u001b[0my_sm\u001b[0m\u001b[0;34m.\u001b[0m\u001b[0mvalue_counts\u001b[0m\u001b[0;34m\u001b[0m\u001b[0m\n\u001b[0m",
      "\u001b[0;31mAttributeError\u001b[0m: 'numpy.ndarray' object has no attribute 'value_counts'"
     ]
    }
   ],
   "source": []
  },
  {
   "cell_type": "code",
   "execution_count": null,
   "metadata": {
    "collapsed": true
   },
   "outputs": [],
   "source": []
  },
  {
   "cell_type": "code",
   "execution_count": null,
   "metadata": {
    "collapsed": true
   },
   "outputs": [],
   "source": []
  },
  {
   "cell_type": "code",
   "execution_count": 288,
   "metadata": {
    "collapsed": false
   },
   "outputs": [
    {
     "name": "stdout",
     "output_type": "stream",
     "text": [
      "X_train :  (734332, 64)\n",
      "X_val :  (129588, 64)\n"
     ]
    }
   ],
   "source": [
    "from sklearn.model_selection import train_test_split\n",
    "\n",
    "X_train, X_val, y_train, y_val = train_test_split(X_sm, y_sm, test_size=0.15, random_state=42)\n",
    "\n",
    "print (\"X_train : \",X_train.shape)\n",
    "print (\"X_val : \",X_val.shape)\n"
   ]
  },
  {
   "cell_type": "code",
   "execution_count": 298,
   "metadata": {
    "collapsed": true
   },
   "outputs": [],
   "source": [
    "\n",
    "xgb1 = XGBClassifier(\n",
    " learning_rate =0.01,\n",
    " n_estimators=100,\n",
    " max_depth=5,\n",
    " min_child_weight=1,\n",
    " gamma=0,\n",
    " subsample=0.8,\n",
    " colsample_bytree=0.8,\n",
    " objective= 'binary:logistic',\n",
    " nthread=4,\n",
    " scale_pos_weight=1,\n",
    " seed=27)\n",
    "\n"
   ]
  },
  {
   "cell_type": "code",
   "execution_count": 299,
   "metadata": {
    "collapsed": false
   },
   "outputs": [
    {
     "name": "stdout",
     "output_type": "stream",
     "text": [
      "\n",
      "Model Report\n",
      "Accuracy : 0.7419\n",
      "AUC Score (Train): 0.828012\n"
     ]
    },
    {
     "data": {
      "image/png": "[encoded data removed]",
      "text/plain": [
       "<Figure size 864x1296 with 1 Axes>"
      ]
     },
     "metadata": {
      "needs_background": "light"
     },
     "output_type": "display_data"
    }
   ],
   "source": [
    "predictors = X_train.columns\n",
    "modelfit(xgb1, X_train,y_train, predictors)\n"
   ]
  },
  {
   "cell_type": "code",
   "execution_count": 300,
   "metadata": {
    "collapsed": false
   },
   "outputs": [
    {
     "name": "stdout",
     "output_type": "stream",
     "text": [
      "AUC:  0.743229874201223 TN:  56798  :  FP:  8069 FN:  25186 TP: 39535\n"
     ]
    }
   ],
   "source": [
    "model_evaluate(xgb1,y_val,X_val)\n",
    "# X_val.shape"
   ]
  },
  {
   "cell_type": "code",
   "execution_count": 297,
   "metadata": {
    "collapsed": false
   },
   "outputs": [
    {
     "data": {
      "text/plain": [
       "var_1                                      False\n",
       "gender_m                                   False\n",
       "gender_f                                   False\n",
       "user_depth_1                               False\n",
       "action_log_view                            False\n",
       "action_log_interest                        False\n",
       "age_level_3                                False\n",
       "age_level_4                                False\n",
       "age_level_5                                False\n",
       "age_level_6                                False\n",
       "campaign_id_82320                          False\n",
       "campaign_id_98970                          False\n",
       "campaign_id_105960                         False\n",
       "campaign_id_118601                         False\n",
       "city_development_index_1                   False\n",
       "city_development_index_2                   False\n",
       "city_development_index_3                   False\n",
       "city_development_index_4                   False\n",
       "product_A                                  False\n",
       "product_B                                  False\n",
       "product_C                                  False\n",
       "product_D                                  False\n",
       "product_category_1_1                       False\n",
       "product_category_1_2                       False\n",
       "product_category_1_3                       False\n",
       "product_category_1_5                       False\n",
       "product_category_2_82527                   False\n",
       "product_category_2_146115                  False\n",
       "product_category_2_270915                  False\n",
       "product_category_2_254132                  False\n",
       "                                           ...  \n",
       "product_category_2_143597                  False\n",
       "product_category_2_255689                  False\n",
       "product_category_2_450184                  False\n",
       "product_category_2_327439                  False\n",
       "user_group_id_5                            False\n",
       "user_group_id_6                            False\n",
       "user_group_id_7                            False\n",
       "user_group_id_8                            False\n",
       "user_group_id_9                            False\n",
       "user_group_id_10                           False\n",
       "user_group_id_11                           False\n",
       "user_group_id_12                           False\n",
       "action_log_view^2                          False\n",
       "action_log_view action_log_interest        False\n",
       "action_log_interest^2                      False\n",
       "action_log_view^3                          False\n",
       "action_log_view^2 action_log_interest      False\n",
       "action_log_view action_log_interest^2      False\n",
       "action_log_interest^3                      False\n",
       "action_log_view^4                          False\n",
       "action_log_view^3 action_log_interest      False\n",
       "action_log_view^2 action_log_interest^2    False\n",
       "action_log_view action_log_interest^3      False\n",
       "action_log_interest^4                      False\n",
       "action_log_view^5                          False\n",
       "action_log_view^4 action_log_interest      False\n",
       "action_log_view^3 action_log_interest^2    False\n",
       "action_log_view^2 action_log_interest^3    False\n",
       "action_log_view action_log_interest^4      False\n",
       "action_log_interest^5                      False\n",
       "Length: 64, dtype: bool"
      ]
     },
     "execution_count": 297,
     "metadata": {},
     "output_type": "execute_result"
    }
   ],
   "source": [
    "X_test.isnull().any()"
   ]
  },
  {
   "cell_type": "code",
   "execution_count": 301,
   "metadata": {
    "collapsed": false
   },
   "outputs": [],
   "source": [
    "def predict_test( model_):\n",
    "    ouput_test = pd.DataFrame( { \"session_id\": test_raw[\"session_id\"], \"is_click\" : model_.predict(X_test) } )        \n",
    "    ouput_test.to_csv(\"/Users/reetkanjilal/Hack/AVD_Amex_Nov16_18/XGB4.csv\")\n",
    "    return ouput_test"
   ]
  },
  {
   "cell_type": "code",
   "execution_count": 302,
   "metadata": {
    "collapsed": false
   },
   "outputs": [
    {
     "data": {
      "text/html": [
       "<div>\n",
       "<style scoped>\n",
       "    .dataframe tbody tr th:only-of-type {\n",
       "        vertical-align: middle;\n",
       "    }\n",
       "\n",
       "    .dataframe tbody tr th {\n",
       "        vertical-align: top;\n",
       "    }\n",
       "\n",
       "    .dataframe thead th {\n",
       "        text-align: right;\n",
       "    }\n",
       "</style>\n",
       "<table border=\"1\" class=\"dataframe\">\n",
       "  <thead>\n",
       "    <tr style=\"text-align: right;\">\n",
       "      <th></th>\n",
       "      <th>is_click</th>\n",
       "      <th>session_id</th>\n",
       "    </tr>\n",
       "  </thead>\n",
       "  <tbody>\n",
       "    <tr>\n",
       "      <th>0</th>\n",
       "      <td>0</td>\n",
       "      <td>411705</td>\n",
       "    </tr>\n",
       "    <tr>\n",
       "      <th>1</th>\n",
       "      <td>0</td>\n",
       "      <td>208263</td>\n",
       "    </tr>\n",
       "    <tr>\n",
       "      <th>2</th>\n",
       "      <td>0</td>\n",
       "      <td>239450</td>\n",
       "    </tr>\n",
       "    <tr>\n",
       "      <th>3</th>\n",
       "      <td>0</td>\n",
       "      <td>547761</td>\n",
       "    </tr>\n",
       "    <tr>\n",
       "      <th>4</th>\n",
       "      <td>0</td>\n",
       "      <td>574275</td>\n",
       "    </tr>\n",
       "    <tr>\n",
       "      <th>5</th>\n",
       "      <td>0</td>\n",
       "      <td>394913</td>\n",
       "    </tr>\n",
       "    <tr>\n",
       "      <th>6</th>\n",
       "      <td>0</td>\n",
       "      <td>562747</td>\n",
       "    </tr>\n",
       "    <tr>\n",
       "      <th>7</th>\n",
       "      <td>0</td>\n",
       "      <td>224359</td>\n",
       "    </tr>\n",
       "    <tr>\n",
       "      <th>8</th>\n",
       "      <td>0</td>\n",
       "      <td>395004</td>\n",
       "    </tr>\n",
       "    <tr>\n",
       "      <th>9</th>\n",
       "      <td>0</td>\n",
       "      <td>572855</td>\n",
       "    </tr>\n",
       "    <tr>\n",
       "      <th>10</th>\n",
       "      <td>0</td>\n",
       "      <td>595386</td>\n",
       "    </tr>\n",
       "    <tr>\n",
       "      <th>11</th>\n",
       "      <td>0</td>\n",
       "      <td>395293</td>\n",
       "    </tr>\n",
       "    <tr>\n",
       "      <th>12</th>\n",
       "      <td>0</td>\n",
       "      <td>232085</td>\n",
       "    </tr>\n",
       "    <tr>\n",
       "      <th>13</th>\n",
       "      <td>0</td>\n",
       "      <td>222325</td>\n",
       "    </tr>\n",
       "    <tr>\n",
       "      <th>14</th>\n",
       "      <td>0</td>\n",
       "      <td>395297</td>\n",
       "    </tr>\n",
       "    <tr>\n",
       "      <th>15</th>\n",
       "      <td>0</td>\n",
       "      <td>546723</td>\n",
       "    </tr>\n",
       "    <tr>\n",
       "      <th>16</th>\n",
       "      <td>0</td>\n",
       "      <td>28142</td>\n",
       "    </tr>\n",
       "    <tr>\n",
       "      <th>17</th>\n",
       "      <td>0</td>\n",
       "      <td>595767</td>\n",
       "    </tr>\n",
       "    <tr>\n",
       "      <th>18</th>\n",
       "      <td>0</td>\n",
       "      <td>547614</td>\n",
       "    </tr>\n",
       "    <tr>\n",
       "      <th>19</th>\n",
       "      <td>0</td>\n",
       "      <td>577690</td>\n",
       "    </tr>\n",
       "    <tr>\n",
       "      <th>20</th>\n",
       "      <td>0</td>\n",
       "      <td>207878</td>\n",
       "    </tr>\n",
       "    <tr>\n",
       "      <th>21</th>\n",
       "      <td>0</td>\n",
       "      <td>394014</td>\n",
       "    </tr>\n",
       "    <tr>\n",
       "      <th>22</th>\n",
       "      <td>0</td>\n",
       "      <td>582507</td>\n",
       "    </tr>\n",
       "    <tr>\n",
       "      <th>23</th>\n",
       "      <td>0</td>\n",
       "      <td>207440</td>\n",
       "    </tr>\n",
       "    <tr>\n",
       "      <th>24</th>\n",
       "      <td>0</td>\n",
       "      <td>312987</td>\n",
       "    </tr>\n",
       "    <tr>\n",
       "      <th>25</th>\n",
       "      <td>0</td>\n",
       "      <td>223950</td>\n",
       "    </tr>\n",
       "    <tr>\n",
       "      <th>26</th>\n",
       "      <td>0</td>\n",
       "      <td>547956</td>\n",
       "    </tr>\n",
       "    <tr>\n",
       "      <th>27</th>\n",
       "      <td>0</td>\n",
       "      <td>218279</td>\n",
       "    </tr>\n",
       "    <tr>\n",
       "      <th>28</th>\n",
       "      <td>0</td>\n",
       "      <td>21770</td>\n",
       "    </tr>\n",
       "    <tr>\n",
       "      <th>29</th>\n",
       "      <td>0</td>\n",
       "      <td>567908</td>\n",
       "    </tr>\n",
       "    <tr>\n",
       "      <th>...</th>\n",
       "      <td>...</td>\n",
       "      <td>...</td>\n",
       "    </tr>\n",
       "    <tr>\n",
       "      <th>128828</th>\n",
       "      <td>0</td>\n",
       "      <td>576965</td>\n",
       "    </tr>\n",
       "    <tr>\n",
       "      <th>128829</th>\n",
       "      <td>0</td>\n",
       "      <td>385092</td>\n",
       "    </tr>\n",
       "    <tr>\n",
       "      <th>128830</th>\n",
       "      <td>0</td>\n",
       "      <td>231847</td>\n",
       "    </tr>\n",
       "    <tr>\n",
       "      <th>128831</th>\n",
       "      <td>0</td>\n",
       "      <td>528266</td>\n",
       "    </tr>\n",
       "    <tr>\n",
       "      <th>128832</th>\n",
       "      <td>0</td>\n",
       "      <td>274527</td>\n",
       "    </tr>\n",
       "    <tr>\n",
       "      <th>128833</th>\n",
       "      <td>0</td>\n",
       "      <td>225742</td>\n",
       "    </tr>\n",
       "    <tr>\n",
       "      <th>128834</th>\n",
       "      <td>0</td>\n",
       "      <td>130350</td>\n",
       "    </tr>\n",
       "    <tr>\n",
       "      <th>128835</th>\n",
       "      <td>0</td>\n",
       "      <td>415589</td>\n",
       "    </tr>\n",
       "    <tr>\n",
       "      <th>128836</th>\n",
       "      <td>0</td>\n",
       "      <td>585703</td>\n",
       "    </tr>\n",
       "    <tr>\n",
       "      <th>128837</th>\n",
       "      <td>0</td>\n",
       "      <td>516578</td>\n",
       "    </tr>\n",
       "    <tr>\n",
       "      <th>128838</th>\n",
       "      <td>0</td>\n",
       "      <td>139725</td>\n",
       "    </tr>\n",
       "    <tr>\n",
       "      <th>128839</th>\n",
       "      <td>0</td>\n",
       "      <td>574168</td>\n",
       "    </tr>\n",
       "    <tr>\n",
       "      <th>128840</th>\n",
       "      <td>0</td>\n",
       "      <td>559393</td>\n",
       "    </tr>\n",
       "    <tr>\n",
       "      <th>128841</th>\n",
       "      <td>0</td>\n",
       "      <td>567265</td>\n",
       "    </tr>\n",
       "    <tr>\n",
       "      <th>128842</th>\n",
       "      <td>0</td>\n",
       "      <td>349453</td>\n",
       "    </tr>\n",
       "    <tr>\n",
       "      <th>128843</th>\n",
       "      <td>0</td>\n",
       "      <td>396688</td>\n",
       "    </tr>\n",
       "    <tr>\n",
       "      <th>128844</th>\n",
       "      <td>0</td>\n",
       "      <td>433931</td>\n",
       "    </tr>\n",
       "    <tr>\n",
       "      <th>128845</th>\n",
       "      <td>0</td>\n",
       "      <td>579307</td>\n",
       "    </tr>\n",
       "    <tr>\n",
       "      <th>128846</th>\n",
       "      <td>0</td>\n",
       "      <td>137109</td>\n",
       "    </tr>\n",
       "    <tr>\n",
       "      <th>128847</th>\n",
       "      <td>0</td>\n",
       "      <td>384407</td>\n",
       "    </tr>\n",
       "    <tr>\n",
       "      <th>128848</th>\n",
       "      <td>1</td>\n",
       "      <td>88077</td>\n",
       "    </tr>\n",
       "    <tr>\n",
       "      <th>128849</th>\n",
       "      <td>0</td>\n",
       "      <td>25626</td>\n",
       "    </tr>\n",
       "    <tr>\n",
       "      <th>128850</th>\n",
       "      <td>0</td>\n",
       "      <td>463740</td>\n",
       "    </tr>\n",
       "    <tr>\n",
       "      <th>128851</th>\n",
       "      <td>0</td>\n",
       "      <td>225111</td>\n",
       "    </tr>\n",
       "    <tr>\n",
       "      <th>128852</th>\n",
       "      <td>0</td>\n",
       "      <td>575270</td>\n",
       "    </tr>\n",
       "    <tr>\n",
       "      <th>128853</th>\n",
       "      <td>0</td>\n",
       "      <td>215328</td>\n",
       "    </tr>\n",
       "    <tr>\n",
       "      <th>128854</th>\n",
       "      <td>0</td>\n",
       "      <td>282232</td>\n",
       "    </tr>\n",
       "    <tr>\n",
       "      <th>128855</th>\n",
       "      <td>0</td>\n",
       "      <td>140499</td>\n",
       "    </tr>\n",
       "    <tr>\n",
       "      <th>128856</th>\n",
       "      <td>0</td>\n",
       "      <td>531038</td>\n",
       "    </tr>\n",
       "    <tr>\n",
       "      <th>128857</th>\n",
       "      <td>0</td>\n",
       "      <td>349998</td>\n",
       "    </tr>\n",
       "  </tbody>\n",
       "</table>\n",
       "<p>128858 rows × 2 columns</p>\n",
       "</div>"
      ],
      "text/plain": [
       "        is_click  session_id\n",
       "0              0      411705\n",
       "1              0      208263\n",
       "2              0      239450\n",
       "3              0      547761\n",
       "4              0      574275\n",
       "5              0      394913\n",
       "6              0      562747\n",
       "7              0      224359\n",
       "8              0      395004\n",
       "9              0      572855\n",
       "10             0      595386\n",
       "11             0      395293\n",
       "12             0      232085\n",
       "13             0      222325\n",
       "14             0      395297\n",
       "15             0      546723\n",
       "16             0       28142\n",
       "17             0      595767\n",
       "18             0      547614\n",
       "19             0      577690\n",
       "20             0      207878\n",
       "21             0      394014\n",
       "22             0      582507\n",
       "23             0      207440\n",
       "24             0      312987\n",
       "25             0      223950\n",
       "26             0      547956\n",
       "27             0      218279\n",
       "28             0       21770\n",
       "29             0      567908\n",
       "...          ...         ...\n",
       "128828         0      576965\n",
       "128829         0      385092\n",
       "128830         0      231847\n",
       "128831         0      528266\n",
       "128832         0      274527\n",
       "128833         0      225742\n",
       "128834         0      130350\n",
       "128835         0      415589\n",
       "128836         0      585703\n",
       "128837         0      516578\n",
       "128838         0      139725\n",
       "128839         0      574168\n",
       "128840         0      559393\n",
       "128841         0      567265\n",
       "128842         0      349453\n",
       "128843         0      396688\n",
       "128844         0      433931\n",
       "128845         0      579307\n",
       "128846         0      137109\n",
       "128847         0      384407\n",
       "128848         1       88077\n",
       "128849         0       25626\n",
       "128850         0      463740\n",
       "128851         0      225111\n",
       "128852         0      575270\n",
       "128853         0      215328\n",
       "128854         0      282232\n",
       "128855         0      140499\n",
       "128856         0      531038\n",
       "128857         0      349998\n",
       "\n",
       "[128858 rows x 2 columns]"
      ]
     },
     "execution_count": 302,
     "metadata": {},
     "output_type": "execute_result"
    }
   ],
   "source": [
    "predict_test(xgb1)"
   ]
  },
  {
   "cell_type": "code",
   "execution_count": null,
   "metadata": {
    "collapsed": true
   },
   "outputs": [],
   "source": []
  },
  {
   "cell_type": "code",
   "execution_count": null,
   "metadata": {
    "collapsed": true
   },
   "outputs": [],
   "source": []
  },
  {
   "cell_type": "code",
   "execution_count": 291,
   "metadata": {
    "collapsed": true
   },
   "outputs": [],
   "source": [
    "def modelfit(alg, dtrain,y_train, predictors,useTrainCV=True, cv_folds=5, early_stopping_rounds=50):\n",
    "    \n",
    "    if useTrainCV:\n",
    "        xgb_param = alg.get_xgb_params()\n",
    "        xgtrain = xgb.DMatrix(dtrain.values, label=y_train)\n",
    "        cvresult = xgb.cv(xgb_param, xgtrain, num_boost_round=alg.get_params()['n_estimators'], nfold=cv_folds,\n",
    "                            metrics='auc', early_stopping_rounds=early_stopping_rounds)\n",
    "        alg.set_params(n_estimators=cvresult.shape[0])\n",
    "    \n",
    "    #Fit the algorithm on the data\n",
    "    alg.fit(dtrain, y_train,eval_metric='auc')\n",
    "        \n",
    "    #Predict training set:\n",
    "    dtrain_predictions = alg.predict(dtrain)\n",
    "    dtrain_predprob = alg.predict_proba(dtrain)[:,1]\n",
    "        \n",
    "    #Print model report:\n",
    "    print (\"\\nModel Report\")\n",
    "    print (\"Accuracy : %.4g\" % metrics.accuracy_score(y_train, dtrain_predictions))\n",
    "    print (\"AUC Score (Train): %f\" % metrics.roc_auc_score(y_train, dtrain_predprob))\n",
    "    \n",
    "    \n",
    "    fig, ax = plt.subplots(figsize=(12,18))\n",
    "    xgb.plot_importance(alg, max_num_features=50, height=0.8,ax=ax)\n",
    "    plt.show()\n",
    "    "
   ]
  },
  {
   "cell_type": "code",
   "execution_count": 280,
   "metadata": {
    "collapsed": true
   },
   "outputs": [],
   "source": [
    "from sklearn.metrics import confusion_matrix\n",
    "# from sklearn.metrics import \n",
    "from sklearn.metrics import roc_auc_score\n",
    "def model_evaluate( model_ ,Y,X):\n",
    "    pred_df = pd.DataFrame( { \"actual\": Y, \"predicted\" : model_.predict( X ) } )\n",
    "    tn, fp, fn, tp = confusion_matrix(pred_df['actual'], pred_df[\"predicted\"]).ravel()\n",
    "    acc = roc_auc_score(pred_df[\"actual\"], pred_df[\"predicted\"])\n",
    "\n",
    "    print(\"AUC: \",acc, \"TN: \", tn, \" : \", \"FP: \", fp, \"FN: \", fn, \"TP:\", tp )"
   ]
  },
  {
   "cell_type": "code",
   "execution_count": 116,
   "metadata": {
    "collapsed": false
   },
   "outputs": [
    {
     "data": {
      "text/html": [
       "<div>\n",
       "<style scoped>\n",
       "    .dataframe tbody tr th:only-of-type {\n",
       "        vertical-align: middle;\n",
       "    }\n",
       "\n",
       "    .dataframe tbody tr th {\n",
       "        vertical-align: top;\n",
       "    }\n",
       "\n",
       "    .dataframe thead th {\n",
       "        text-align: right;\n",
       "    }\n",
       "</style>\n",
       "<table border=\"1\" class=\"dataframe\">\n",
       "  <thead>\n",
       "    <tr style=\"text-align: right;\">\n",
       "      <th></th>\n",
       "      <th>session_id</th>\n",
       "      <th>DateTime</th>\n",
       "      <th>user_id</th>\n",
       "      <th>product</th>\n",
       "      <th>campaign_id</th>\n",
       "      <th>webpage_id</th>\n",
       "      <th>product_category_1</th>\n",
       "      <th>product_category_2</th>\n",
       "      <th>user_group_id</th>\n",
       "      <th>gender</th>\n",
       "      <th>age_level</th>\n",
       "      <th>user_depth</th>\n",
       "      <th>city_development_index</th>\n",
       "      <th>var_1</th>\n",
       "      <th>user_id_prod</th>\n",
       "    </tr>\n",
       "  </thead>\n",
       "  <tbody>\n",
       "    <tr>\n",
       "      <th>0</th>\n",
       "      <td>411705</td>\n",
       "      <td>2017-07-08 00:00</td>\n",
       "      <td>732573</td>\n",
       "      <td>J</td>\n",
       "      <td>404347</td>\n",
       "      <td>53587</td>\n",
       "      <td>1</td>\n",
       "      <td>NaN</td>\n",
       "      <td>5.0</td>\n",
       "      <td>Male</td>\n",
       "      <td>5.0</td>\n",
       "      <td>3.0</td>\n",
       "      <td>NaN</td>\n",
       "      <td>0</td>\n",
       "      <td>732573_J</td>\n",
       "    </tr>\n",
       "    <tr>\n",
       "      <th>1</th>\n",
       "      <td>208263</td>\n",
       "      <td>2017-07-08 00:00</td>\n",
       "      <td>172910</td>\n",
       "      <td>I</td>\n",
       "      <td>118601</td>\n",
       "      <td>28529</td>\n",
       "      <td>3</td>\n",
       "      <td>82527.0</td>\n",
       "      <td>NaN</td>\n",
       "      <td>NaN</td>\n",
       "      <td>NaN</td>\n",
       "      <td>NaN</td>\n",
       "      <td>NaN</td>\n",
       "      <td>1</td>\n",
       "      <td>172910_I</td>\n",
       "    </tr>\n",
       "    <tr>\n",
       "      <th>2</th>\n",
       "      <td>239450</td>\n",
       "      <td>2017-07-08 00:00</td>\n",
       "      <td>172910</td>\n",
       "      <td>I</td>\n",
       "      <td>118601</td>\n",
       "      <td>28529</td>\n",
       "      <td>4</td>\n",
       "      <td>82527.0</td>\n",
       "      <td>NaN</td>\n",
       "      <td>NaN</td>\n",
       "      <td>NaN</td>\n",
       "      <td>NaN</td>\n",
       "      <td>NaN</td>\n",
       "      <td>1</td>\n",
       "      <td>172910_I</td>\n",
       "    </tr>\n",
       "    <tr>\n",
       "      <th>3</th>\n",
       "      <td>547761</td>\n",
       "      <td>2017-07-08 00:00</td>\n",
       "      <td>557318</td>\n",
       "      <td>G</td>\n",
       "      <td>118601</td>\n",
       "      <td>28529</td>\n",
       "      <td>5</td>\n",
       "      <td>82527.0</td>\n",
       "      <td>1.0</td>\n",
       "      <td>Male</td>\n",
       "      <td>1.0</td>\n",
       "      <td>3.0</td>\n",
       "      <td>1.0</td>\n",
       "      <td>0</td>\n",
       "      <td>557318_G</td>\n",
       "    </tr>\n",
       "    <tr>\n",
       "      <th>4</th>\n",
       "      <td>574275</td>\n",
       "      <td>2017-07-08 00:00</td>\n",
       "      <td>923896</td>\n",
       "      <td>H</td>\n",
       "      <td>118601</td>\n",
       "      <td>28529</td>\n",
       "      <td>5</td>\n",
       "      <td>82527.0</td>\n",
       "      <td>9.0</td>\n",
       "      <td>Female</td>\n",
       "      <td>3.0</td>\n",
       "      <td>1.0</td>\n",
       "      <td>NaN</td>\n",
       "      <td>1</td>\n",
       "      <td>923896_H</td>\n",
       "    </tr>\n",
       "  </tbody>\n",
       "</table>\n",
       "</div>"
      ],
      "text/plain": [
       "   session_id          DateTime  user_id product  campaign_id  webpage_id  \\\n",
       "0      411705  2017-07-08 00:00   732573       J       404347       53587   \n",
       "1      208263  2017-07-08 00:00   172910       I       118601       28529   \n",
       "2      239450  2017-07-08 00:00   172910       I       118601       28529   \n",
       "3      547761  2017-07-08 00:00   557318       G       118601       28529   \n",
       "4      574275  2017-07-08 00:00   923896       H       118601       28529   \n",
       "\n",
       "   product_category_1  product_category_2  user_group_id  gender  age_level  \\\n",
       "0                   1                 NaN            5.0    Male        5.0   \n",
       "1                   3             82527.0            NaN     NaN        NaN   \n",
       "2                   4             82527.0            NaN     NaN        NaN   \n",
       "3                   5             82527.0            1.0    Male        1.0   \n",
       "4                   5             82527.0            9.0  Female        3.0   \n",
       "\n",
       "   user_depth  city_development_index  var_1 user_id_prod  \n",
       "0         3.0                     NaN      0     732573_J  \n",
       "1         NaN                     NaN      1     172910_I  \n",
       "2         NaN                     NaN      1     172910_I  \n",
       "3         3.0                     1.0      0     557318_G  \n",
       "4         1.0                     NaN      1     923896_H  "
      ]
     },
     "execution_count": 116,
     "metadata": {},
     "output_type": "execute_result"
    }
   ],
   "source": [
    "test_raw.head()"
   ]
  },
  {
   "cell_type": "code",
   "execution_count": null,
   "metadata": {
    "collapsed": true
   },
   "outputs": [],
   "source": []
  }
 ],
 "metadata": {
  "anaconda-cloud": {},
  "kernelspec": {
   "display_name": "Python 3",
   "language": "python",
   "name": "python3"
  },
  "language_info": {
   "codemirror_mode": {
    "name": "ipython",
    "version": 3
   },
   "file_extension": ".py",
   "mimetype": "text/x-python",
   "name": "python",
   "nbconvert_exporter": "python",
   "pygments_lexer": "ipython3",
   "version": "3.5.2"
  }
 },
 "nbformat": 4,
 "nbformat_minor": 2
}
